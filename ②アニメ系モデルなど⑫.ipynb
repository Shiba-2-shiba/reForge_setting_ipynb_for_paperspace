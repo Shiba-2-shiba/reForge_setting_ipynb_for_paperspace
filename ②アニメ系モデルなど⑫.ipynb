{
 "cells": [
  {
   "cell_type": "markdown",
   "id": "9e42bc1e-9825-4587-b533-c74607b1a377",
   "metadata": {},
   "source": [
    "## ComfyUI Paperspace Notebook From https://github.com/TheLastBen/fast-stable-diffusion, if you encounter any issues, feel free to discuss them."
   ]
  },
  {
   "cell_type": "markdown",
   "id": "813d4d10-e6d1-42b1-ae37-ae41ad47e595",
   "metadata": {},
   "source": [
    "# Dependencies"
   ]
  },
  {
   "cell_type": "code",
   "execution_count": 1,
   "id": "6381569a-51b4-4303-a623-7f0b70104889",
   "metadata": {
    "execution": {
     "iopub.execute_input": "2024-12-25T00:03:06.249796Z",
     "iopub.status.busy": "2024-12-25T00:03:06.249582Z",
     "iopub.status.idle": "2024-12-25T00:18:09.830274Z",
     "shell.execute_reply": "2024-12-25T00:18:09.829705Z",
     "shell.execute_reply.started": "2024-12-25T00:03:06.249779Z"
    }
   },
   "outputs": [
    {
     "name": "stdout",
     "output_type": "stream",
     "text": [
      "Downloading model from https://huggingface.co/John6666/yomama-25d-illustrious-illustriousv20-sdxl/resolve/main to /tmp/ComfyUI/models/checkpoints/yomama-25d-illustrious-illustriousv20-sdxl\n",
      "Downloading model.safetensors from text_encoder:   0%|   | 0/100 [00:06<?, ?%/s]\n",
      "Downloading model.safetensors from text_encoder_2:   0%| | 0/100 [00:32<?, ?%/s]\n",
      "Downloading diffusion_pytorch_model.safetensors from unet:   0%| | 0/100 [02:02<\n",
      "Downloading diffusion_pytorch_model.safetensors from vae:   0%| | 0/100 [00:04<?\n",
      "Converting model:   0%|                                  | 0/100 [00:15<?, ?%/s]\n",
      "Directory successfully deleted\n",
      "Downloading model from https://huggingface.co/John6666/xxx-ray-v10-sdxl/resolve/main to /tmp/ComfyUI/models/checkpoints/xxx-ray-v10-sdxl\n",
      "Downloading model.safetensors from text_encoder:   0%|   | 0/100 [00:06<?, ?%/s]\n",
      "Downloading model.safetensors from text_encoder_2:   0%| | 0/100 [00:33<?, ?%/s]\n",
      "Downloading diffusion_pytorch_model.safetensors from unet:   0%| | 0/100 [02:02<\n",
      "Downloading diffusion_pytorch_model.safetensors from vae:   0%| | 0/100 [00:04<?\n",
      "Converting model:   0%|                                  | 0/100 [00:13<?, ?%/s]\n",
      "Directory successfully deleted\n",
      "Downloading model from https://huggingface.co/John6666/realism-illustrious-by-stable-yogi-v16-sdxl/resolve/main to /tmp/ComfyUI/models/checkpoints/realism-illustrious-by-stable-yogi-v16-sdxl\n",
      "Downloading model.safetensors from text_encoder:   0%|   | 0/100 [00:06<?, ?%/s]\n",
      "Downloading model.safetensors from text_encoder_2:   0%| | 0/100 [00:32<?, ?%/s]\n",
      "Downloading diffusion_pytorch_model.safetensors from unet:   0%| | 0/100 [02:02<\n",
      "Downloading diffusion_pytorch_model.safetensors from vae:   0%| | 0/100 [00:04<?\n",
      "Converting model:   0%|                                  | 0/100 [00:11<?, ?%/s]\n",
      "Directory successfully deleted\n",
      "Downloading model from https://huggingface.co/John6666/titania-mix-realistic-illustrious-v70-sdxl/resolve/main to /tmp/ComfyUI/models/checkpoints/titania-mix-realistic-illustrious-v70-sdxl\n",
      "Downloading model.safetensors from text_encoder:   0%|   | 0/100 [00:06<?, ?%/s]\n",
      "Downloading model.safetensors from text_encoder_2:   0%| | 0/100 [00:33<?, ?%/s]\n",
      "Downloading diffusion_pytorch_model.safetensors from unet:   0%| | 0/100 [02:02<\n",
      "Downloading diffusion_pytorch_model.safetensors from vae:   0%| | 0/100 [00:04<?\n",
      "Converting model:   0%|                                  | 0/100 [00:12<?, ?%/s]\n",
      "Directory successfully deleted\n",
      "Downloading model from https://huggingface.co/John6666/satpony-reality-satponyrealityv2-sdxl/resolve/main to /tmp/ComfyUI/models/checkpoints/satpony-reality-satponyrealityv2-sdxl\n",
      "Downloading model.safetensors from text_encoder:   0%|   | 0/100 [00:07<?, ?%/s]\n",
      "Downloading model.safetensors from text_encoder_2:   0%| | 0/100 [00:33<?, ?%/s]\n",
      "Downloading diffusion_pytorch_model.safetensors from unet:   0%| | 0/100 [02:02<\n",
      "Downloading diffusion_pytorch_model.safetensors from vae:   0%| | 0/100 [00:04<?\n",
      "Converting model:   0%|                                  | 0/100 [00:12<?, ?%/s]\n",
      "Directory successfully deleted\n"
     ]
    }
   ],
   "source": [
    "# Jupyter Notebook\n",
    "\n",
    "# モデルのURLとローカルパスのリスト\n",
    "models = [\n",
    "    {\n",
    "        \"base_url\": \"https://huggingface.co/John6666/yomama-25d-illustrious-illustriousv20-sdxl/resolve/main\",\n",
    "        \"base_path\": \"/tmp/stable-diffusion-webui-reForge/models/Stable-diffusion/yomama-25d-illustrious-illustriousv20-sdxl\"\n",
    "    },\n",
    "    {\n",
    "        \"base_url\": \"https://huggingface.co/John6666/xxx-ray-v10-sdxl/resolve/main\",\n",
    "        \"base_path\": \"/tmp/stable-diffusion-webui-reForge/models/Stable-diffusion/xxx-ray-v10-sdxl\"\n",
    "    },\n",
    "    {\n",
    "        \"base_url\": \"https://huggingface.co/John6666/realism-illustrious-by-stable-yogi-v16-sdxl/resolve/main\",\n",
    "        \"base_path\": \"/tmp/stable-diffusion-webui-reForge/models/Stable-diffusion/realism-illustrious-by-stable-yogi-v16-sdxl\"\n",
    "    },\n",
    "    {\n",
    "        \"base_url\": \"https://huggingface.co/John6666/titania-mix-realistic-illustrious-v70-sdxl/resolve/main\",\n",
    "        \"base_path\": \"/tmp/stable-diffusion-webui-reForge/models/Stable-diffusion/titania-mix-realistic-illustrious-v70-sdxl\"\n",
    "    },\n",
    "    {\n",
    "        \"base_url\": \"https://huggingface.co/John6666/satpony-reality-satponyrealityv2-sdxl/resolve/main\",\n",
    "        \"base_path\": \"/tmp/stable-diffusion-webui-reForge/models/Stable-diffusion/satpony-reality-satponyrealityv2-sdxl\"\n",
    "    }\n",
    "]\n",
    "\n",
    "# 各モデルについてスクリプトを実行\n",
    "for model in models:\n",
    "    base_url = model[\"base_url\"]\n",
    "    base_path = model[\"base_path\"]\n",
    "    print(f\"Downloading model from {base_url} to {base_path}\")\n",
    "    !python3 /usr/src/app/modeldownload_from_hugginface.py {base_url} {base_path}\n"
   ]
  },
  {
   "cell_type": "code",
   "execution_count": 2,
   "id": "076bcee7-af14-4bf1-8887-9f4ce9b3a0d6",
   "metadata": {
    "execution": {
     "iopub.execute_input": "2024-07-09T03:17:34.149284Z",
     "iopub.status.busy": "2024-07-09T03:17:34.148419Z",
     "iopub.status.idle": "2024-07-09T03:17:34.152421Z",
     "shell.execute_reply": "2024-07-09T03:17:34.151913Z",
     "shell.execute_reply.started": "2024-07-09T03:17:34.149249Z"
    }
   },
   "outputs": [],
   "source": [
    "import sys\n",
    "sys.path.append('/tmp')\n"
   ]
  },
  {
   "cell_type": "code",
   "execution_count": 3,
   "id": "f6a6a065-91c2-4691-abec-4101263c9333",
   "metadata": {
    "execution": {
     "iopub.execute_input": "2024-07-09T03:17:35.494418Z",
     "iopub.status.busy": "2024-07-09T03:17:35.493655Z",
     "iopub.status.idle": "2024-07-09T03:17:35.550634Z",
     "shell.execute_reply": "2024-07-09T03:17:35.550128Z",
     "shell.execute_reply.started": "2024-07-09T03:17:35.494388Z"
    }
   },
   "outputs": [
    {
     "name": "stdout",
     "output_type": "stream",
     "text": [
      "Modules and notebooks updated, dependencies already installed\n"
     ]
    }
   ],
   "source": [
    "# Install the dependencies\n",
    "import requests, os, importlib\n",
    "force_reinstall = False\n",
    "\n",
    "# Set to true only if you want to install the dependencies again.\n",
    "\n",
    "#-------------------\n",
    "import mainppsComfy_311\n",
    "from mainppsComfy_311 import *;\n",
    "\n",
    "Deps(force_reinstall)\n"
   ]
  },
  {
   "cell_type": "code",
   "execution_count": 4,
   "id": "9b11b56b-54b1-4db2-b7e8-efa8feecc58b",
   "metadata": {
    "execution": {
     "iopub.execute_input": "2024-07-09T03:17:40.057517Z",
     "iopub.status.busy": "2024-07-09T03:17:40.056729Z",
     "iopub.status.idle": "2024-07-09T03:17:40.264171Z",
     "shell.execute_reply": "2024-07-09T03:17:40.263537Z",
     "shell.execute_reply.started": "2024-07-09T03:17:40.057488Z"
    }
   },
   "outputs": [
    {
     "data": {
      "application/vnd.jupyter.widget-view+json": {
       "model_id": "b61af6e7526542d0b3fea297a975aac3",
       "version_major": 2,
       "version_minor": 0
      },
      "text/plain": [
       "Button(button_style='success', description='Done!', disabled=True, icon='check', style=ButtonStyle(), tooltip=…"
      ]
     },
     "metadata": {},
     "output_type": "display_data"
    }
   ],
   "source": [
    "# Don't skip this cell to make sure the repo is up to date and functioning correctly\n",
    "\n",
    "#-------------------\n",
    "repo()\n"
   ]
  },
  {
   "cell_type": "code",
   "execution_count": null,
   "id": "12836c24-efe4-4c91-9836-b652f157e8bf",
   "metadata": {
    "execution": {
     "iopub.execute_input": "2024-07-09T03:17:43.306846Z",
     "iopub.status.busy": "2024-07-09T03:17:43.306306Z"
    }
   },
   "outputs": [
    {
     "name": "stdout",
     "output_type": "stream",
     "text": [
      "Total VRAM 7974 MB, total RAM 30068 MB\n",
      "pytorch version: 2.1.1+cu121\n",
      "xformers version: 0.0.23\n",
      "Set vram state to: NORMAL_VRAM\n",
      "Device: cuda:0 Quadro RTX 4000 : cudaMallocAsync\n",
      "Using xformers cross attention\n",
      "\n",
      "Import times for custom nodes:\n",
      "   0.0 seconds: /tmp/ComfyUI/custom_nodes/websocket_image_save.py\n",
      "\n",
      "Starting server\n",
      "\n",
      "\u001b[32m2714 Connected\n",
      "https://tensorboard-n2itky0ujj.clg07azjl.paperspacegradient.com\n"
     ]
    }
   ],
   "source": [
    "# 起動コマンド\n",
    "Args = \"--listen --port 6006 --preview-method auto\"\n",
    "\n",
    "def sd():\n",
    "    import os\n",
    "    from subprocess import call\n",
    "\n",
    "    localurl = \"https://tensorboard-\" + os.environ.get('PAPERSPACE_FQDN', 'localhost')\n",
    "    call(\"sed -i 's@logging.info(\\\"To see the GUI go to: {}://{}:{}\\\".format(scheme, address, port))@print(\\\"\\033[32m\\\\u2714 Connected\\\")\\\\n            print(\\\"\" + localurl + \"\\\")@' /tmp/ComfyUI/server.py\", shell=True)\n",
    "    os.chdir('/tmp')\n",
    "\n",
    "sd()\n",
    "!python /tmp/ComfyUI/main.py $Args\n"
   ]
  },
  {
   "cell_type": "code",
   "execution_count": 6,
   "id": "bfd51417-bba8-41fb-ae56-c6555e2a0465",
   "metadata": {
    "execution": {
     "iopub.execute_input": "2024-07-09T02:44:33.762342Z",
     "iopub.status.busy": "2024-07-09T02:44:33.761647Z",
     "iopub.status.idle": "2024-07-09T02:50:28.543804Z",
     "shell.execute_reply": "2024-07-09T02:50:28.543106Z",
     "shell.execute_reply.started": "2024-07-09T02:44:33.762315Z"
    },
    "tags": []
   },
   "outputs": [
    {
     "name": "stdout",
     "output_type": "stream",
     "text": [
      "Total VRAM 7974 MB, total RAM 30068 MB\n",
      "pytorch version: 2.1.1+cu121\n",
      "xformers version: 0.0.23\n",
      "Set vram state to: NORMAL_VRAM\n",
      "Device: cuda:0 Quadro RTX 4000 : cudaMallocAsync\n",
      "Using xformers cross attention\n",
      "****** User settings have been changed to be stored on the server instead of browser storage. ******\n",
      "****** For multi-user setups add the --multi-user CLI argument to enable multiple user profiles. ******\n",
      "\n",
      "Import times for custom nodes:\n",
      "   0.0 seconds: /tmp/ComfyUI/custom_nodes/websocket_image_save.py\n",
      "\n",
      "Starting server\n",
      "\n",
      "To see the GUI go to: http://n2itky0ujj.clg07azjl.paperspacegradient.com:6006\n",
      "\u001b[32m✔ Connected\n",
      "\u001b[1;34mhttp://n2itky0ujj.clg07azjl.paperspacegradient.com:6006\u001b[0m\n",
      "^C\n",
      "\n",
      "Stopped server\n"
     ]
    }
   ],
   "source": [
    "# Start ComfyUI\n",
    "Args=\"--listen --port 6006 --preview-method auto\"\n",
    "\n",
    "#-------------------\n",
    "!python /tmp/ComfyUI/main.py $Args\n"
   ]
  },
  {
   "cell_type": "markdown",
   "id": "76ae705b-15e3-47b9-b226-52e71ef1737d",
   "metadata": {},
   "source": [
    "# Install/Update ComfyUI"
   ]
  },
  {
   "cell_type": "code",
   "execution_count": 3,
   "id": "652afdee-64a4-483b-926a-094c884dd260",
   "metadata": {
    "execution": {
     "iopub.execute_input": "2024-07-09T01:16:06.796580Z",
     "iopub.status.busy": "2024-07-09T01:16:06.795680Z",
     "iopub.status.idle": "2024-07-09T01:16:06.808265Z",
     "shell.execute_reply": "2024-07-09T01:16:06.807579Z",
     "shell.execute_reply.started": "2024-07-09T01:16:06.796549Z"
    },
    "tags": []
   },
   "outputs": [
    {
     "ename": "NameError",
     "evalue": "name 'repo' is not defined",
     "output_type": "error",
     "traceback": [
      "\u001b[0;31m---------------------------------------------------------------------------\u001b[0m",
      "\u001b[0;31mNameError\u001b[0m                                 Traceback (most recent call last)",
      "Cell \u001b[0;32mIn[3], line 4\u001b[0m\n\u001b[1;32m      1\u001b[0m \u001b[38;5;66;03m# Don't skip this cell to make sure the repo is up to date and functioning correctly\u001b[39;00m\n\u001b[1;32m      2\u001b[0m \n\u001b[1;32m      3\u001b[0m \u001b[38;5;66;03m#--------------------\u001b[39;00m\n\u001b[0;32m----> 4\u001b[0m \u001b[43mrepo\u001b[49m()\n",
      "\u001b[0;31mNameError\u001b[0m: name 'repo' is not defined"
     ]
    }
   ],
   "source": [
    "# Don't skip this cell to make sure the repo is up to date and functioning correctly\n",
    "\n",
    "#--------------------\n",
    "repo()"
   ]
  },
  {
   "cell_type": "markdown",
   "id": "ca3a26bb-8625-42b9-9e2f-e55939a536ef",
   "metadata": {},
   "source": [
    "# Model Download/Load"
   ]
  },
  {
   "cell_type": "code",
   "execution_count": null,
   "id": "1e5dbca1-5ee2-41db-be94-9d2919dc3aef",
   "metadata": {
    "execution": {
     "iopub.execute_input": "2024-07-06T19:43:09.859878Z",
     "iopub.status.busy": "2024-07-06T19:43:09.859441Z",
     "iopub.status.idle": "2024-07-06T19:43:10.043521Z",
     "shell.execute_reply": "2024-07-06T19:43:10.041099Z",
     "shell.execute_reply.started": "2024-07-06T19:43:09.859838Z"
    },
    "tags": []
   },
   "outputs": [],
   "source": [
    "Original_Model_Version = \"SDXL\"\n",
    "\n",
    "# Choices are \"SDXL\", \"v1.5\", \"v2-512\", \"v2-768\"\n",
    "\n",
    "#-------------- Or\n",
    "\n",
    "Path_to_MODEL = \"\"\n",
    "\n",
    "# Insert the full path of your trained model or to a folder containing multiple models.\n",
    "\n",
    "\n",
    "MODEL_LINK = \"\"\n",
    "\n",
    "# A direct link to a Model or a shared gdrive link.\n",
    "\n",
    "\n",
    "#--------------------\n",
    "model=mdls(Original_Model_Version, Path_to_MODEL, MODEL_LINK)"
   ]
  },
  {
   "cell_type": "markdown",
   "id": "39bd9c28-fc3d-4a99-bb1c-e68c74ac1323",
   "metadata": {},
   "source": [
    "# LoRA Download"
   ]
  },
  {
   "cell_type": "code",
   "execution_count": null,
   "id": "cf411d58-cce0-452c-af60-b10046149a49",
   "metadata": {
    "execution": {
     "iopub.execute_input": "2024-07-06T19:43:10.046696Z",
     "iopub.status.busy": "2024-07-06T19:43:10.046192Z",
     "iopub.status.idle": "2024-07-06T19:43:10.061140Z",
     "shell.execute_reply": "2024-07-06T19:43:10.059616Z",
     "shell.execute_reply.started": "2024-07-06T19:43:10.046652Z"
    }
   },
   "outputs": [],
   "source": [
    "LoRA_LINK = \"\"\n",
    "\n",
    "# Downlad the LoRA model directly to ComfyUI LoRA folder\n",
    "\n",
    "#--------------------\n",
    "loradwn(LoRA_LINK)"
   ]
  },
  {
   "cell_type": "markdown",
   "id": "02706779-fec8-4661-8589-0e28f0d4fb3b",
   "metadata": {},
   "source": [
    "# ControlNet"
   ]
  },
  {
   "cell_type": "code",
   "execution_count": null,
   "id": "222cdfd7-38f1-422b-81a2-963a2a8d504b",
   "metadata": {
    "execution": {
     "iopub.execute_input": "2024-07-06T19:43:10.062841Z",
     "iopub.status.busy": "2024-07-06T19:43:10.062424Z",
     "iopub.status.idle": "2024-07-06T19:43:10.484556Z",
     "shell.execute_reply": "2024-07-06T19:43:10.482481Z",
     "shell.execute_reply.started": "2024-07-06T19:43:10.062803Z"
    },
    "tags": []
   },
   "outputs": [],
   "source": [
    "# Download/update ControlNet extension and its models.\n",
    "\n",
    "ControlNet_v1_Model = \"none\"\n",
    "\n",
    "# Choices are : none; all; 1: Canny; 2: Depth; 3: Lineart; 4: MLSD; 5: Normal; 6: OpenPose; 7: Scribble; 8: Seg; 9: ip2p; 10:Shuffle; 11: Inpaint; 12: Softedge; 13: Lineart_Anime; 14: Tile; 15: T2iadapter_Models\n",
    "\n",
    "ControlNet_XL_Model = \"none\"\n",
    "\n",
    "# Choices are : none; all; 1: Canny; 2: Depth; 3: Sketch; 4: OpenPose; 5: Recolor\n",
    "\n",
    "#--------------------\n",
    "CNet(ControlNet_v1_Model, ControlNet_XL_Model)"
   ]
  },
  {
   "cell_type": "markdown",
   "id": "48184b7b-9cd0-4f04-9c85-4464031d6596",
   "metadata": {
    "tags": []
   },
   "source": [
    "# Start ComfyUI"
   ]
  },
  {
   "cell_type": "code",
   "execution_count": null,
   "id": "e73f76a6-01a4-44d0-87a7-77fed9c9b77c",
   "metadata": {
    "execution": {
     "iopub.execute_input": "2024-07-06T19:43:10.493117Z",
     "iopub.status.busy": "2024-07-06T19:43:10.492665Z",
     "iopub.status.idle": "2024-07-06T19:43:42.547101Z",
     "shell.execute_reply": "2024-07-06T19:43:42.545302Z",
     "shell.execute_reply.started": "2024-07-06T19:43:10.493078Z"
    },
    "scrolled": true,
    "tags": []
   },
   "outputs": [],
   "source": [
    "Args=\"--listen --port 6006 --preview-method auto\"\n",
    "\n",
    "#--------------------\n",
    "sd()\n",
    "!python /notebooks/ComfyUI/main.py $Args"
   ]
  }
 ],
 "metadata": {
  "kernelspec": {
   "display_name": "Python 3 (ipykernel)",
   "language": "python",
   "name": "python3"
  },
  "language_info": {
   "codemirror_mode": {
    "name": "ipython",
    "version": 3
   },
   "file_extension": ".py",
   "mimetype": "text/x-python",
   "name": "python",
   "nbconvert_exporter": "python",
   "pygments_lexer": "ipython3",
   "version": "3.10.12"
  }
 },
 "nbformat": 4,
 "nbformat_minor": 5
}
