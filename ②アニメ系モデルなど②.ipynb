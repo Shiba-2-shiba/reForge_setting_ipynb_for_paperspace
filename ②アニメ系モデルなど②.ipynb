{
 "cells": [
  {
   "cell_type": "markdown",
   "id": "9e42bc1e-9825-4587-b533-c74607b1a377",
   "metadata": {},
   "source": [
    "## モデルアニメ系\n"
   ]
  },
  {
   "cell_type": "code",
   "execution_count": 1,
   "id": "6381569a-51b4-4303-a623-7f0b70104889",
   "metadata": {
    "execution": {
     "iopub.execute_input": "2024-12-05T00:06:27.106265Z",
     "iopub.status.busy": "2024-12-05T00:06:27.105757Z",
     "iopub.status.idle": "2024-12-05T00:19:49.455645Z",
     "shell.execute_reply": "2024-12-05T00:19:49.454066Z",
     "shell.execute_reply.started": "2024-12-05T00:06:27.106243Z"
    }
   },
   "outputs": [
    {
     "name": "stdout",
     "output_type": "stream",
     "text": [
      "Downloading model from https://huggingface.co/John6666/noob-v-pencil-xl-v040-sdxl/resolve/main to /tmp/stable-diffusion-webui-forge/models/Stable-diffusion/noob-v-pencil-xl-v040-sdxl\n",
      "Downloading model.safetensors from text_encoder:   0%|   | 0/100 [00:08<?, ?%/s]\n",
      "Downloading model.safetensors from text_encoder_2:   0%| | 0/100 [00:46<?, ?%/s]\n",
      "Downloading diffusion_pytorch_model.safetensors from unet:   0%| | 0/100 [02:37<\n",
      "Downloading diffusion_pytorch_model.safetensors from vae:   0%| | 0/100 [00:06<?\n",
      "Converting model:   0%|                                  | 0/100 [00:12<?, ?%/s]\n",
      "Directory successfully deleted\n",
      "Downloading model from https://huggingface.co/John6666/white-unicorn-another-sdxl/resolve/main to /tmp/stable-diffusion-webui-forge/models/Stable-diffusion/white-unicorn-another-sdxl\n",
      "Downloading model.safetensors from text_encoder:   0%|   | 0/100 [00:06<?, ?%/s]\n",
      "Downloading model.safetensors from text_encoder_2:   0%| | 0/100 [00:33<?, ?%/s]\n",
      "Downloading diffusion_pytorch_model.safetensors from unet:   0%| | 0/100 [02:02<\n",
      "Downloading diffusion_pytorch_model.safetensors from vae:   0%| | 0/100 [00:04<?\n",
      "Converting model:   0%|                                  | 0/100 [00:11<?, ?%/s]\n",
      "Directory successfully deleted\n",
      "Downloading model from https://huggingface.co/John6666/white-unicorn-pvc-sdxl/resolve/main to /tmp/stable-diffusion-webui-forge/models/Stable-diffusion/white-unicorn-pvc-sdxl\n",
      "Downloading model.safetensors from text_encoder:   0%|   | 0/100 [00:07<?, ?%/s]\n",
      "Downloading model.safetensors from text_encoder_2:   0%| | 0/100 [00:33<?, ?%/s]\n",
      "Downloading diffusion_pytorch_model.safetensors from unet:   0%| | 0/100 [02:31<\n",
      "Downloading diffusion_pytorch_model.safetensors from vae:   0%| | 0/100 [00:04<?\n",
      "Converting model:   0%|                                  | 0/100 [00:11<?, ?%/s]\n",
      "Directory successfully deleted\n",
      "Downloading model from https://huggingface.co/John6666/pornmaster-pro-noobv02vae-sdxl/resolve/main to /tmp/stable-diffusion-webui-forge/models/Stable-diffusion/pornmaster-pro-noobv02vae-sdxl\n",
      "Downloading model.safetensors from text_encoder:   0%|   | 0/100 [00:06<?, ?%/s]\n",
      "Downloading model.safetensors from text_encoder_2:   0%| | 0/100 [00:32<?, ?%/s]\n",
      "Downloading diffusion_pytorch_model.safetensors from unet:   0%| | 0/100 [02:02<\n",
      "Downloading diffusion_pytorch_model.safetensors from vae:   0%| | 0/100 [00:04<?\n",
      "Converting model:   0%|                                  | 0/100 [00:12<?, ?%/s]\n",
      "Directory successfully deleted\n",
      "Downloading model from https://huggingface.co/John6666//real-illustrious-v10-sdxl/resolve/main to /tmp/stable-diffusion-webui-forge/models/Stable-diffusion//real-illustrious-v10-sdxl\n",
      "Downloading model.safetensors from text_encoder:   0%|   | 0/100 [00:00<?, ?%/s]\n",
      "Downloading model.safetensors from text_encoder_2:   0%| | 0/100 [00:00<?, ?%/s]\n",
      "Downloading diffusion_pytorch_model.safetensors from unet:   0%| | 0/100 [00:00<\n",
      "Downloading diffusion_pytorch_model.safetensors from vae:   0%| | 0/100 [00:00<?\n",
      "Converting model:   0%|                                  | 0/100 [00:01<?, ?%/s]\n",
      "Error in command: \n",
      "Directory successfully deleted\n"
     ]
    }
   ],
   "source": [
    "# Jupyter Notebook\n",
    "\n",
    "# モデルのURLとローカルパスのリスト\n",
    "models = [\n",
    "    {\n",
    "        \"base_url\": \"https://huggingface.co/John6666/noob-v-pencil-xl-v040-sdxl/resolve/main\",\n",
    "        \"base_path\": \"/tmp/stable-diffusion-webui-reForge/models/Stable-diffusion/noob-v-pencil-xl-v040-sdxl\"\n",
    "    },\n",
    "    {\n",
    "        \"base_url\": \"https://huggingface.co/John6666/white-unicorn-another-sdxl/resolve/main\",\n",
    "        \"base_path\": \"/tmp/stable-diffusion-webui-reForge/models/Stable-diffusion/white-unicorn-another-sdxl\"\n",
    "    },\n",
    "    {\n",
    "        \"base_url\": \"https://huggingface.co/John6666/white-unicorn-pvc-sdxl/resolve/main\",\n",
    "        \"base_path\": \"/tmp/stable-diffusion-webui-reForge/models/Stable-diffusion/white-unicorn-pvc-sdxl\"\n",
    "    },\n",
    "    {\n",
    "        \"base_url\": \"https://huggingface.co/John6666/pornmaster-pro-noobv02vae-sdxl/resolve/main\",\n",
    "        \"base_path\": \"/tmp/stable-diffusion-webui-reForge/models/Stable-diffusion/pornmaster-pro-noobv02vae-sdxl\"\n",
    "    },\n",
    "    {\n",
    "        \"base_url\": \"https://huggingface.co/John6666//real-illustrious-v10-sdxl/resolve/main\",\n",
    "        \"base_path\": \"/tmp/stable-diffusion-webui-reForge/models/Stable-diffusion//real-illustrious-v10-sdxl\"\n",
    "    }\n",
    "]\n",
    "\n",
    "# 各モデルについてスクリプトを実行\n",
    "for model in models:\n",
    "    base_url = model[\"base_url\"]\n",
    "    base_path = model[\"base_path\"]\n",
    "    print(f\"Downloading model from {base_url} to {base_path}\")\n",
    "    !python3 /usr/src/app/modeldownload_from_hugginface.py {base_url} {base_path}\n"
   ]
  }
 ],
 "metadata": {
  "kernelspec": {
   "display_name": "Python 3 (ipykernel)",
   "language": "python",
   "name": "python3"
  },
  "language_info": {
   "codemirror_mode": {
    "name": "ipython",
    "version": 3
   },
   "file_extension": ".py",
   "mimetype": "text/x-python",
   "name": "python",
   "nbconvert_exporter": "python",
   "pygments_lexer": "ipython3",
   "version": "3.10.12"
  }
 },
 "nbformat": 4,
 "nbformat_minor": 5
}
