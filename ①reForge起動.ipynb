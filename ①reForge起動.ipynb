{
 "cells": [
  {
   "cell_type": "code",
   "execution_count": 3,
   "id": "71e3b27c-7cb3-4dbf-a2d9-5e24d3220e06",
   "metadata": {
    "execution": {
     "iopub.execute_input": "2024-11-26T19:42:26.518849Z",
     "iopub.status.busy": "2024-11-26T19:42:26.518565Z",
     "iopub.status.idle": "2024-11-26T19:42:34.261668Z",
     "shell.execute_reply": "2024-11-26T19:42:34.260928Z",
     "shell.execute_reply.started": "2024-11-26T19:42:26.518830Z"
    }
   },
   "outputs": [
    {
     "name": "stdout",
     "output_type": "stream",
     "text": [
      "/tmp\n",
      "/tmp\n",
      "Cloning into 'stable-diffusion-webui-reForge'...\n",
      "remote: Enumerating objects: 45063, done.\u001b[K\n",
      "remote: Counting objects: 100% (8409/8409), done.\u001b[K\n",
      "remote: Compressing objects: 100% (907/907), done.\u001b[K\n",
      "remote: Total 45063 (delta 7541), reused 7919 (delta 7474), pack-reused 36654 (from 1)\u001b[K\n",
      "Receiving objects: 100% (45063/45063), 100.83 MiB | 27.34 MiB/s, done.\n",
      "Resolving deltas: 100% (31234/31234), done.\n"
     ]
    }
   ],
   "source": [
    "%cd /tmp\n",
    "!rm -rf stable-diffusion-webui-reForge\n",
    "%cd /tmp\n",
    "!git clone --branch dev2 https://github.com/Panchovix/stable-diffusion-webui-reForge.git\n"
   ]
  },
  {
   "cell_type": "code",
   "execution_count": null,
   "id": "86882c98-0fe8-47f1-9124-7f70257c5134",
   "metadata": {
    "execution": {
     "iopub.execute_input": "2024-11-26T19:59:07.174721Z",
     "iopub.status.busy": "2024-11-26T19:59:07.174092Z"
    }
   },
   "outputs": [
    {
     "name": "stdout",
     "output_type": "stream",
     "text": [
      "/tmp/stable-diffusion-webui-reForge\n",
      "Python 3.10.12 (main, Sep 11 2024, 15:47:36) [GCC 11.4.0]\n",
      "Version: f1.4.1dev2-v1.10.1RC-latest-1639-gb1cfb884\n",
      "Commit hash: b1cfb884e900460bae3cdd12b4b60287122c306d\n"
     ]
    },
    {
     "name": "stderr",
     "output_type": "stream",
     "text": [
      "/usr/local/lib/python3.10/dist-packages/IPython/core/magics/osm.py:417: UserWarning: This is now an optional IPython functionality, setting dhist requires you to install the `pickleshare` library.\n",
      "  self.shell.db['dhist'] = compress_dhist(dhist)[-100:]\n"
     ]
    },
    {
     "name": "stdout",
     "output_type": "stream",
     "text": [
      "Legacy Preprocessor init warning: Unable to install insightface automatically. Please try run `pip install insightface` manually.\n",
      "Launching Web UI with arguments: --enable-insecure-extension-access --share --gradio-queue --xformers --pin-shared-memory --cuda-malloc --cuda-stream\n",
      "Using cudaMallocAsync backend.\n",
      "Device: cuda:0 NVIDIA RTX A4000 : cudaMallocAsync\n",
      "Set vram state to: NORMAL_VRAM\n",
      "CUDA Stream Activated:  True\n",
      "/usr/local/lib/python3.10/dist-packages/transformers/utils/hub.py:127: FutureWarning: Using `TRANSFORMERS_CACHE` is deprecated and will be removed in v5 of Transformers. Use `HF_HOME` instead.\n",
      "  warnings.warn(\n",
      "2024-11-26 19:59:14.940358: I tensorflow/core/platform/cpu_feature_guard.cc:210] This TensorFlow binary is optimized to use available CPU instructions in performance-critical operations.\n",
      "To enable the following instructions: AVX2 FMA, in other operations, rebuild TensorFlow with the appropriate compiler flags.\n",
      "2024-11-26 19:59:15.658836: W tensorflow/compiler/tf2tensorrt/utils/py_utils.cc:38] TF-TRT Warning: Could not find TensorRT\n",
      "Using VAE dtype: torch.bfloat16\n",
      "ControlNet preprocessor location: /tmp/stable-diffusion-webui-reForge/models/ControlNetPreprocessor\n",
      "Loading model illusob-xl-mahoroba-mix-vpred06v16-sdxl.safetensors (1 of 1)\n",
      "Calculating sha256 for /tmp/stable-diffusion-webui-reForge/models/Stable-diffusion/illusob-xl-mahoroba-mix-vpred06v16-sdxl.safetensors: 2024-11-26 19:59:20,187 - ControlNet - \u001b[0;32mINFO\u001b[0m - ControlNet UI callback registered.\n",
      "Running on local URL:  http://127.0.0.1:7860\n",
      "Running on public URL: https://f96559704ff4325721.gradio.live\n",
      "\n",
      "This share link expires in 72 hours. For free permanent hosting and GPU upgrades, run `gradio deploy` from Terminal to deploy to Spaces (https://huggingface.co/spaces)\n",
      "Startup time: 14.0s (prepare environment: 2.9s, import torch: 3.5s, import gradio: 0.8s, setup paths: 2.3s, other imports: 0.3s, load scripts: 2.4s, create ui: 0.8s, gradio launch: 0.8s).\n",
      "b7e0b6ae343ddfc35651a3f2e5a9a095f1d01aaf4efbd6341be1e9b95a0552e3\n",
      "Loading weights [b7e0b6ae34] from /tmp/stable-diffusion-webui-reForge/models/Stable-diffusion/illusob-xl-mahoroba-mix-vpred06v16-sdxl.safetensors\n",
      "Using VAE dtype: torch.bfloat16\n",
      "/usr/local/lib/python3.10/dist-packages/transformers/tokenization_utils_base.py:1601: FutureWarning: `clean_up_tokenization_spaces` was not set. It will be set to `True` by default. This behavior will be depracted in transformers v4.45, and will be then set to `False` by default. For more details check this issue: https://github.com/huggingface/transformers/issues/31884\n",
      "  warnings.warn(\n",
      "WARNING:root:clip missing: ['clip_l.text_projection', 'clip_l.logit_scale', 'clip_g.logit_scale']\n",
      "Model illusob-xl-mahoroba-mix-vpred06v16-sdxl.safetensors [b7e0b6ae34] loaded in 15.3s (calculate hash: 8.0s, forge load real models: 6.4s, calculate empty prompt: 0.7s).\n",
      "/tmp/stable-diffusion-webui-reForge/modules_forge/patch_basic.py:13: FutureWarning: You are using `torch.load` with `weights_only=False` (the current default value), which uses the default pickle module implicitly. It is possible to construct malicious pickle data which will execute arbitrary code during unpickling (See https://github.com/pytorch/pytorch/blob/main/SECURITY.md#untrusted-models for more details). In a future release, the default value for `weights_only` will be flipped to `True`. This limits the functions that could be executed during unpickling. Arbitrary objects will no longer be allowed to be loaded via this mode unless they are explicitly allowlisted by the user via `torch.serialization.add_safe_globals`. We recommend you start setting `weights_only=True` for any use case where you don't have full control of the loaded file. Please open an issue on GitHub for any issues related to this experimental feature.\n",
      "  result = original_loader(*args, **kwargs)\n",
      "  0%|                                                    | 0/20 [00:00<?, ?it/s]\n",
      "  5%|██▏                                         | 1/20 [00:00<00:09,  1.99it/s]\u001b[A\n",
      " 15%|██████▌                                     | 3/20 [00:00<00:03,  4.96it/s]\u001b[A\n",
      " 25%|███████████                                 | 5/20 [00:00<00:02,  6.84it/s]\u001b[A\n",
      " 35%|███████████████▍                            | 7/20 [00:01<00:01,  8.13it/s]\u001b[A\n",
      " 45%|███████████████████▊                        | 9/20 [00:01<00:01,  9.00it/s]\u001b[A\n",
      " 55%|███████████████████████▋                   | 11/20 [00:01<00:00,  9.57it/s]\u001b[A\n",
      " 65%|███████████████████████████▉               | 13/20 [00:01<00:00,  9.93it/s]\u001b[A\n",
      " 75%|████████████████████████████████▎          | 15/20 [00:01<00:00, 10.21it/s]\u001b[A\n",
      " 85%|████████████████████████████████████▌      | 17/20 [00:01<00:00, 10.41it/s]\u001b[A\n",
      "100%|███████████████████████████████████████████| 20/20 [00:02<00:00,  8.79it/s]\u001b[A\n",
      "\n",
      "Total progress: 100%|███████████████████████████| 20/20 [00:03<00:00,  5.76it/s]\u001b[A\n",
      "*** Error completing request\n",
      "*** Arguments: ('', 'outputs/txt2img-images', 'outputs/img2img-images', 'outputs/extras-images', '', 'outputs/txt2img-grids', 'outputs/img2img-grids', 'log/images', 'outputs/init-images', True, 'png', '', True, 'Replace', True, 'png', False, True, False, '', -1, '', '#000000', '#999999', '#ffffff', False, False, False, False, False, 80, False, True, 4.0, 4000.0, 200.0, True, False, True, True, False, '', False, False, True, 100, True, True, False, '[date]', 8, True, False, False, False, False, False, False, False, False, False, False, 'euler_comfy', 1, 1, 'midpoint', 0.5, 8, 8, True, False, 'When searched', 1, 0.0, 0.0, 1, True, False, 'Path', 'Ascending', 'Tree', True, 180.0, ' ', '', False, True, 'None', False, 'None', 'Alias from file', True, True, False, [], 0, False, False, 'Automatic', 0, False, 0, 0, 0, False, False, True, True, 'Disable', False, 'reForge OG', 'reForge', [], 0, 1, 'uniform', 0, 0, 0, 1, 0.5, 'midpoint', 0.0, 0.0, 0.0, 0, False, False, 'bh1', 'time_uniform', 3, True, 'Default', 0, 'v_prediction', \"<br><h2 style='text-align: center'>Scheduler configuration for A1111 samplers</h2>\\n        Configuration options for schedulers for A1111 samplers (DPM++ SDE, Euler a, Euler, DPM++ 2M, Euler SMEA/DY, Kohaku_LoNyu_Yog, up to normal UniPC below DDIM)\", 7, 0, 1, 3.5, 3.5, 2.15, 0.6, 0.6, 1, 0.9, 2, 0, 0.5, 7, '[14.615, 6.315, 3.771, 2.181, 1.342, 0.862, 0.555, 0.38, 0.234, 0.113, 0.029]', \"<br><h2 style='text-align: center'>Scheduler configuration for reForge samplers</h2>\\n        Configuration options for schedulers for reforge samplers (All the rest, CFG++ Samplers, DPM++ SDE Comfy, Euler Ancestral Comfy, ODE, DPM++ 2M DY, DDPM, etc)\", 7, 0, 1, '[14.615, 6.315, 3.771, 2.181, 1.342, 0.862, 0.555, 0.38, 0.234, 0.113, 0.029]', False, 0.6, 0.6, 1, 0.9, 2, 0, 0.5, 7, 3.5, 3.5, 2.15, {}, 1, True, 0, 'Automatic', False, 'Original', True, 20, False, {}, False, 'GPU', False, 'second pass', False, True, False, 0.0, 0.0, 2.5, 6.0, 0, {}, True, False, True, 'Full', 'Full', 1, 1, 0, False, False, '#ffffff', 720, '#ffffff', '#ffffff', '#ffffff', False, False, 32, True, \"<br><h2 style='text-align: center'>Basic Samplers</h2>\\n        Configuration options for fundamental sampling methods.\", '<br><h3>Ancestral Eta Setting</h3>', 1, '<br><h3>Euler Comfy Settings</h3>', 0, 0, 1, '<br><h3>Euler Ancestral Comfy Settings</h3>', 1, 1, '<br><h3>Heun Comfy Settings</h3>', 0, 0, 1, \"<br><h2 style='text-align: center'>Other Advanced Samplers Family</h2>\\n        Advanced configurations for some samplers.\", '<br><h3>DPM++ 2S Ancestral Comfy Settings</h3>', 1, 1, '<br><h3>DPM++ SDE Comfy Settings</h3>', 1, 1, 0.5, '<br><h3>DPM++ 2M Comfy Settings</h3>', 1, 1, 'midpoint', '<br><h3>DPM++ 3M SDE Comfy Settings</h3>', 1, 1, '<br><h3>HeunPP2 Settings</h3>', 0, 0, 1, '<br><h3>IPNDM Settings</h3>', 4, '<br><h3>IPNDM-V Settings</h3>', 4, '<br><h3>DEIS Settings</h3>', 3, 'tab', '<br><h3>Kohaku LoNyu Settings</h3>', 0, 0, 1, 1, \"<br><h2 style='text-align: center'>CFG++ Enhanced Samplers</h2>\\n        Advanced configurations for samplers with CFG++ enhancement.\", '<br><h3>Euler Ancestral CFG++ Settings</h3>', 1, 1, '<br><h3>DPM++ 2S Ancestral CFG++ Settings</h3>', 1, 1, '<br><h3>DPM++ SDE CFG++ Settings</h3>', 1, 1, 0.5, '<br><h3>DPM++ 2S Ancestral Dyn CFG++ Settings</h3>', 1, 1, '<br><h3>DPM++ 2S Ancestral Intern CFG++ Settings</h3>', 1, 1, '<br><h3>DPM++ 3M SDE CFG++ Settings</h3>', 1, 1, \"<br><h2 style='text-align: center'>Dynamic Samplers</h2>\\n        Advanced configurations for samplers with dynamic thresholding.\", '<br><h3>Euler Dynamic Settings</h3>', 0, 0, 1, '<br><h3>Euler SMEA Dynamic Settings</h3>', 0, 0, 1, '<br><h3>Euler Negative Settings</h3>', 0, 0, 1, '<br><h3>Euler Dynamic Negative Settings</h3>', 0, 0, 1, '<br><h3>DPM++ 2m Dynamic Settings</h3>', 1, -1, True, '<br><h3>DPM++ 3M Dynamic Settings</h3>', 1, -1, True, '<br><h3>DPM++ 2M SDE Dynamic Settings</h3>', 1, 1, 'midpoint', -1, True, '<br><h3>DPM++ 3M SDE Dynamic Settings</h3>', 1, 1, -1, True, \"<br><h2 style='text-align: center'>Dynamic CFG++ Samplers</h2>\\n        Advanced configurations for dynamic samplers with CFG++ enhancement.\", '<br><h3>Euler Dynamic CFG++ Settings</h3>', 0, 0, 1, -1, True, '<br><h3>Euler SMEA DY CFG++ Settings</h3>', 0, 0, 1, -1, True, '<br><h3>Euler Ancestral DY CFG++ Settings</h3>', 1, 1, -1, True, '<br><h3>Euler Ancestral DY CFG++ Settings</h3>', 1, -1, True, \"<br><h2 style='text-align: center'>ODE Solvers</h2>\\n        Configuration options for Ordinary Differential Equation based samplers.\", '<br><h3>ODE Bosh3 Settings</h3>', -2.5, -3.5, 250, '<br><h3>ODE Fehlberg2 Settings</h3>', -4, -6, 250, '<br><h3>ODE Adaptive Heun Settings</h3>', -2.5, -3.5, 250, '<br><h3>ODE Dopri5 Settings</h3>', -2, -3, 250, '<br><h3>Custom ODE Settings</h3>', 'dopri5', -3, -4, 250, True, False, True, True, False, 250.0, 1, 0.9, '', 'Subdirectory', False, 'Infotext is what this software calls the text that contains generation parameters and can be used to generate the same picture again.\\nIt is displayed in UI below the image. To use infotext, paste it into the prompt and click the ↙️ paste button.', True, False, True, True, True, True, False, True, True, [], 'Apply if any', True, True, 'png', True, 10, 'Approx NN', False, 'Prompt', 1000.0, False, False, True, 0.1, 0.05, '.,\\\\/!?%^*;:{}=`~() ', ['Tab', 'Carriage Return', 'Line Feed'], True, False, True, 'This page allows you to add some settings to the main interface of txt2img and img2img tabs.', [], [], 1, False, False, True, True, False, False, False, False, False, True, 'None', ['sd_model_checkpoint', 'sd_vae', 'CLIP_stop_at_last_layers'], [], [], [], 'Default', True, True, True, True, False, True, True, '', 'For categories below, callbacks added to dropdowns happen before others, in order listed.', [], [], [], [], [], [], [], [], [], [], [], [], [], [], [], [], [], [], [], 'Those settings allow you to enable torch profiler when generating pictures.\\nProfiling allows you to see which code uses how much of computer\\'s resources during generation.\\nEach generation writes its own profile to one file, overwriting previous.\\nThe file can be viewed in <a href=\"chrome:tracing\">Chrome</a>, or on a <a href=\"https://ui.perfetto.dev/\">Perfetto</a> web site.\\nWarning: writing profile can take a lot of time, up to 30 seconds, and the file itelf can be around 500MB in size.', False, ['CPU'], True, True, True, 'trace.json', 'Local', False, False, True, 8, False, True, True, False, True, False, True, False, False, 'CodeFormer', 0.5, False, [], [], [], 5, 'Ignore', False, 256, 32, 192, 32, 256, 32, 176, 32, 256, 32, 256, 32, 256, 32, 0, 32, ['R-ESRGAN 4x+', 'R-ESRGAN 4x+ Anime6B'], ['DAT x2', 'DAT x3', 'DAT x4'], None, False, 100, False, 256, 8, 192, 8, False, False, False, False, True, '', ' ', 1, 500.0, False, False, False, 120.0, 'Alt', 'Ctrl', 'Q', 'W', 'F', 'S', 'R', 'O', True, True, False, ['Overlap'], 'detected_maps', '', '', 3, 5, 5, False, False, False, True, False, False, False, False, True, True, {}, {}, {}, {}, False, False, 1, 24, 48, 1500.0, [], 0.5, True, True, True, '') {}\n",
      "    Traceback (most recent call last):\n",
      "      File \"/tmp/stable-diffusion-webui-reForge/modules/call_queue.py\", line 74, in f\n",
      "        res = list(func(*args, **kwargs))\n",
      "      File \"/tmp/stable-diffusion-webui-reForge/modules/ui_settings.py\", line 298, in <lambda>\n",
      "        fn=wrap_gradio_call_no_job(lambda *args: self.run_settings(*args), extra_outputs=[gr.update()]),\n",
      "      File \"/tmp/stable-diffusion-webui-reForge/modules/ui_settings.py\", line 76, in run_settings\n",
      "        assert comp == self.dummy_component or opts.same_type(value, opts.data_labels[key].default), f\"Bad value for setting {key}: {value}; expecting {type(opts.data_labels[key].default).__name__}\"\n",
      "    AssertionError: Bad value for setting ays_custom_sigmas: [14.615, 6.315, 3.771, 2.181, 1.342, 0.862, 0.555, 0.38, 0.234, 0.113, 0.029]; expecting list\n",
      "\n",
      "---\n",
      "  0%|                                                    | 0/20 [00:00<?, ?it/s]\n",
      " 10%|████▍                                       | 2/20 [00:00<00:01, 10.88it/s]\u001b[A\n",
      " 20%|████████▊                                   | 4/20 [00:00<00:01, 10.91it/s]\u001b[A\n",
      " 30%|█████████████▏                              | 6/20 [00:00<00:01, 10.92it/s]\u001b[A\n",
      " 40%|█████████████████▌                          | 8/20 [00:00<00:01, 10.92it/s]\u001b[A\n",
      " 50%|█████████████████████▌                     | 10/20 [00:00<00:00, 10.89it/s]\u001b[A\n",
      " 60%|█████████████████████████▊                 | 12/20 [00:01<00:00, 10.81it/s]\u001b[A\n",
      " 70%|██████████████████████████████             | 14/20 [00:01<00:00, 10.81it/s]\u001b[A\n",
      " 80%|██████████████████████████████████▍        | 16/20 [00:01<00:00, 10.84it/s]\u001b[A\n",
      " 90%|██████████████████████████████████████▋    | 18/20 [00:01<00:00, 10.85it/s]\u001b[A\n",
      "100%|███████████████████████████████████████████| 20/20 [00:01<00:00, 10.86it/s]\u001b[A\n",
      "\n",
      "Total progress: 100%|███████████████████████████| 20/20 [00:03<00:00,  6.17it/s]\u001b[A\n",
      "  0%|                                                    | 0/20 [00:00<?, ?it/s]\n",
      " 10%|████▍                                       | 2/20 [00:00<00:01, 10.95it/s]\u001b[A\n",
      " 20%|████████▊                                   | 4/20 [00:00<00:01, 10.92it/s]\u001b[A\n",
      " 30%|█████████████▏                              | 6/20 [00:00<00:01, 10.90it/s]\u001b[A\n",
      " 40%|█████████████████▌                          | 8/20 [00:00<00:01, 10.88it/s]\u001b[A\n",
      " 50%|█████████████████████▌                     | 10/20 [00:00<00:00, 10.83it/s]\u001b[A\n",
      " 60%|█████████████████████████▊                 | 12/20 [00:01<00:00, 10.80it/s]\u001b[A\n",
      " 70%|██████████████████████████████             | 14/20 [00:01<00:00, 10.81it/s]\u001b[A\n",
      " 80%|██████████████████████████████████▍        | 16/20 [00:01<00:00, 10.81it/s]\u001b[A\n",
      " 90%|██████████████████████████████████████▋    | 18/20 [00:01<00:00, 10.81it/s]\u001b[A\n",
      "100%|███████████████████████████████████████████| 20/20 [00:01<00:00, 10.83it/s]\u001b[A\n",
      "\n",
      "Total progress: 100%|███████████████████████████| 20/20 [00:03<00:00,  5.96it/s]\u001b[A\n"
     ]
    }
   ],
   "source": [
    "%cd /tmp/stable-diffusion-webui-reForge\n",
    "!python3.10 launch.py --enable-insecure-extension-access --share --gradio-queue --xformers --pin-shared-memory --cuda-malloc --cuda-stream"
   ]
  }
 ],
 "metadata": {
  "kernelspec": {
   "display_name": "Python 3 (ipykernel)",
   "language": "python",
   "name": "python3"
  },
  "language_info": {
   "codemirror_mode": {
    "name": "ipython",
    "version": 3
   },
   "file_extension": ".py",
   "mimetype": "text/x-python",
   "name": "python",
   "nbconvert_exporter": "python",
   "pygments_lexer": "ipython3",
   "version": "3.10.12"
  }
 },
 "nbformat": 4,
 "nbformat_minor": 5
}
