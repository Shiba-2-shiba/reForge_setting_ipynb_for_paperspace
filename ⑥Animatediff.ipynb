{
 "cells": [
  {
   "cell_type": "markdown",
   "id": "9e42bc1e-9825-4587-b533-c74607b1a377",
   "metadata": {},
   "source": [
    "## Animatediff"
   ]
  },
  {
   "cell_type": "code",
   "execution_count": 1,
   "id": "6381569a-51b4-4303-a623-7f0b70104889",
   "metadata": {
    "execution": {
     "iopub.execute_input": "2024-10-28T03:53:12.513895Z",
     "iopub.status.busy": "2024-10-28T03:53:12.513385Z",
     "iopub.status.idle": "2024-10-28T03:55:48.123574Z",
     "shell.execute_reply": "2024-10-28T03:55:48.122809Z",
     "shell.execute_reply.started": "2024-10-28T03:53:12.513874Z"
    }
   },
   "outputs": [
    {
     "name": "stdout",
     "output_type": "stream",
     "text": [
      "######################################################################### 100.0%#=#=#                                                                                                         15.0%\n",
      "######################################################################### 100.0%\n",
      "######################################################################### 100.0%                                                    32.7%#################################################           87.9%\n",
      "######################################################################### 100.0%\n",
      "/bin/bash: line 1: cd: /tmp/stable-diffusion-webui-reForge/extensions/sd-webui-animatediff/model/: No such file or directory\n",
      "/bin/bash: line 1: cd: /tmp/stable-diffusion-webui-reForge/extensions/sd-webui-animatediff/model/: No such file or directory\n"
     ]
    }
   ],
   "source": [
    "!cd /tmp/stable-diffusion-webui-reForge/models/Stable-diffusion && \\\n",
    "curl --progress-bar -L -o lametta_v2012_fp16.safetensors https://huggingface.co/Lasorco/lametta/resolve/main/lametta_v2012_fp16.safetensors?download=true\n",
    "\n",
    "!cd /tmp/stable-diffusion-webui-reForge/models/ControlNet && \\\n",
    "curl --progress-bar -L -o animatediffcontrolnet.ckpt https://huggingface.co/crishhh/animatediff_controlnet/resolve/main/controlnet_checkpoint.ckpt?download=true\n",
    "\n",
    "!cd /tmp/stable-diffusion-webui-reForge/models/ControlNet && \\\n",
    "curl --progress-bar -L -o DensePose_sd15-fp16.safetensors https://huggingface.co/libsgo/DensePose_sd15-fp16.safetensors/resolve/main/DensePose_sd15-fp16.safetensors?download=true\n",
    "\n",
    "!cd /tmp/stable-diffusion-webui-reForge/models/ControlNet && \\\n",
    "curl --progress-bar -L -o control_v11f1p_sd15_depth.pth https://huggingface.co/lllyasviel/ControlNet-v1-1/resolve/main/control_v11f1p_sd15_depth.pth?download=true\n",
    "\n",
    "!cd /tmp/stable-diffusion-webui-reForge/extensions/sd-forge-animatediff/model/ && \\\n",
    "curl --progress-bar -L -o v3_sd15_adapter.ckp https://huggingface.co/guoyww/animatediff/resolve/main/v3_sd15_adapter.ckpt?download=true\n",
    "\n",
    "!cd /tmp/stable-diffusion-webui-reForge/extensions/sd-forge-animatediff/model/ && \\\n",
    "curl --progress-bar -L -o v3_sd15_mm.ckpt https://huggingface.co/guoyww/animatediff/resolve/main/v3_sd15_mm.ckpt?download=true"
   ]
  },
  {
   "cell_type": "code",
   "execution_count": 2,
   "id": "076bcee7-af14-4bf1-8887-9f4ce9b3a0d6",
   "metadata": {
    "execution": {
     "iopub.execute_input": "2024-10-28T03:58:09.740198Z",
     "iopub.status.busy": "2024-10-28T03:58:09.739914Z",
     "iopub.status.idle": "2024-10-28T03:58:10.991943Z",
     "shell.execute_reply": "2024-10-28T03:58:10.991210Z",
     "shell.execute_reply.started": "2024-10-28T03:58:09.740179Z"
    }
   },
   "outputs": [],
   "source": [
    "!cp -r /usr/src/app/motionlora* /tmp/stable-diffusion-webui-reForge/models/Lora\n"
   ]
  }
 ],
 "metadata": {
  "kernelspec": {
   "display_name": "Python 3 (ipykernel)",
   "language": "python",
   "name": "python3"
  },
  "language_info": {
   "codemirror_mode": {
    "name": "ipython",
    "version": 3
   },
   "file_extension": ".py",
   "mimetype": "text/x-python",
   "name": "python",
   "nbconvert_exporter": "python",
   "pygments_lexer": "ipython3",
   "version": "3.10.12"
  }
 },
 "nbformat": 4,
 "nbformat_minor": 5
}
