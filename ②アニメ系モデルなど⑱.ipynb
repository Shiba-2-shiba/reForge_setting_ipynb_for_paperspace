{
 "cells": [
  {
   "cell_type": "markdown",
   "id": "9e42bc1e-9825-4587-b533-c74607b1a377",
   "metadata": {},
   "source": [
    "## モデルアニメ系\n"
   ]
  },
  {
   "cell_type": "code",
   "execution_count": null,
   "id": "6381569a-51b4-4303-a623-7f0b70104889",
   "metadata": {
    "execution": {
     "iopub.execute_input": "2025-01-01T18:06:13.919609Z",
     "iopub.status.busy": "2025-01-01T18:06:13.919346Z"
    }
   },
   "outputs": [
    {
     "name": "stdout",
     "output_type": "stream",
     "text": [
      "Downloading model from https://huggingface.co/John6666/ilustreal-v10-sdxl/resolve/main to /tmp/stable-diffusion-webui-forge/models/Stable-diffusion/ilustreal-v10-sdxl\n",
      "Downloading model.safetensors from text_encoder:   0%|   | 0/100 [00:06<?, ?%/s]\n",
      "Downloading model.safetensors from text_encoder_2:   0%| | 0/100 [00:00<?, ?%/s]^C\n",
      "Downloading model.safetensors from text_encoder_2:   0%| | 0/100 [00:13<?, ?%/s]\n",
      "Traceback (most recent call last):\n",
      "  File \"/usr/src/app/modeldownload_from_hugginface.py\", line 70, in <module>\n",
      "    main(base_url, base_path)\n",
      "  File \"/usr/src/app/modeldownload_from_hugginface.py\", line 48, in main\n",
      "    download_files(base_url, subdirs, base_path)\n",
      "  File \"/usr/src/app/modeldownload_from_hugginface.py\", line 17, in download_files\n",
      "    run_command(command, f\"Downloading {file_name} from {subdir}\")\n",
      "  File \"/usr/src/app/modeldownload_from_hugginface.py\", line 23, in run_command\n",
      "    for line in process.stderr:\n",
      "KeyboardInterrupt\n",
      "Downloading model from https://huggingface.co/John6666/smooth-mix-illustrious-illustrious-sdxl/resolve/main to /tmp/stable-diffusion-webui-forge/models/Stable-diffusion/smooth-mix-illustrious-illustrious-sdxl\n",
      "Downloading model.safetensors from text_encoder:   0%|   | 0/100 [00:00<?, ?%/s]"
     ]
    }
   ],
   "source": [
    "# Jupyter Notebook\n",
    "\n",
    "# モデルのURLとローカルパスのリスト\n",
    "models = [\n",
    "    {\n",
    "        \"base_url\": \"https://huggingface.co/John6666/ilustreal-v10-sdxl/resolve/main\",\n",
    "        \"base_path\": \"/tmp/stable-diffusion-webui-reForge/models/Stable-diffusion/ilustreal-v10-sdxl\"\n",
    "    },\n",
    "    {\n",
    "        \"base_url\": \"https://huggingface.co/John6666/smooth-mix-illustrious-illustrious-sdxl/resolve/main\",\n",
    "        \"base_path\": \"/tmp/stable-diffusion-webui-reForge/models/Stable-diffusion/smooth-mix-illustrious-illustrious-sdxl\"\n",
    "    },\n",
    "    {\n",
    "        \"base_url\": \"https://huggingface.co/John6666/splat-fusion-v10-sdxl/resolve/main\",\n",
    "        \"base_path\": \"/tmp/stable-diffusion-webui-reForge/models/Stable-diffusion/splat-fusion-v10-sdxl\"\n",
    "    },\n",
    "    {\n",
    "        \"base_url\": \"https://huggingface.co/John6666/vall-mix-semi-realism-25d-v38-sdxl/resolve/main\",\n",
    "        \"base_path\": \"/tmp/stable-diffusion-webui-reForge/models/Stable-diffusion/vall-mix-semi-realism-25d-v38-sdxl\"\n",
    "    },\n",
    "    {\n",
    "        \"base_url\": \"https://huggingface.co/John6666/cutecandymix-illustrious-sdxl/resolve/main\",\n",
    "        \"base_path\": \"/tmp/stable-diffusion-webui-reForge/models/Stable-diffusion/cutecandymix-illustrious-sdxl\"\n",
    "    },\n",
    "    {\n",
    "        \"base_url\": \"https://huggingface.co/John6666/koronemix-vpred-v10-sdxl/resolve/main\",\n",
    "        \"base_path\": \"/tmp/stable-diffusion-webui-reForge/models/Stable-diffusion/koronemix-vpred-v10-sdxl\"\n",
    "    }\n",
    "]\n",
    "\n",
    "# 各モデルについてスクリプトを実行\n",
    "for model in models:\n",
    "    base_url = model[\"base_url\"]\n",
    "    base_path = model[\"base_path\"]\n",
    "    print(f\"Downloading model from {base_url} to {base_path}\")\n",
    "    !python3 /usr/src/app/modeldownload_from_hugginface.py {base_url} {base_path}\n"
   ]
  }
 ],
 "metadata": {
  "kernelspec": {
   "display_name": "Python 3 (ipykernel)",
   "language": "python",
   "name": "python3"
  },
  "language_info": {
   "codemirror_mode": {
    "name": "ipython",
    "version": 3
   },
   "file_extension": ".py",
   "mimetype": "text/x-python",
   "name": "python",
   "nbconvert_exporter": "python",
   "pygments_lexer": "ipython3",
   "version": "3.10.12"
  }
 },
 "nbformat": 4,
 "nbformat_minor": 5
}
