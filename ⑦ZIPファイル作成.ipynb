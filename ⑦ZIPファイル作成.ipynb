{
 "cells": [
  {
   "cell_type": "code",
   "execution_count": 1,
   "id": "9b11b56b-54b1-4db2-b7e8-efa8feecc58b",
   "metadata": {
    "execution": {
     "iopub.execute_input": "2024-12-17T04:56:19.304060Z",
     "iopub.status.busy": "2024-12-17T04:56:19.303514Z",
     "iopub.status.idle": "2024-12-17T04:56:22.649262Z",
     "shell.execute_reply": "2024-12-17T04:56:22.648436Z",
     "shell.execute_reply.started": "2024-12-17T04:56:19.304038Z"
    }
   },
   "outputs": [
    {
     "name": "stdout",
     "output_type": "stream",
     "text": [
      "/tmp\n",
      "/tmp/stable-diffusion-webui-reForge/extensions\n",
      "Cloning into 'sd-forge-deforum'...\n"
     ]
    },
    {
     "name": "stderr",
     "output_type": "stream",
     "text": [
      "/usr/local/lib/python3.10/dist-packages/IPython/core/magics/osm.py:417: UserWarning: This is now an optional IPython functionality, setting dhist requires you to install the `pickleshare` library.\n",
      "  self.shell.db['dhist'] = compress_dhist(dhist)[-100:]\n"
     ]
    },
    {
     "name": "stdout",
     "output_type": "stream",
     "text": [
      "remote: Enumerating objects: 14849, done.\u001b[K\n",
      "remote: Counting objects: 100% (14849/14849), done.\u001b[K\n",
      "remote: Compressing objects: 100% (5609/5609), done.\u001b[K\n",
      "remote: Total 14849 (delta 9306), reused 14499 (delta 9170), pack-reused 0 (from 0)\u001b[K\n",
      "Receiving objects: 100% (14849/14849), 129.19 MiB | 55.14 MiB/s, done.\n",
      "Resolving deltas: 100% (9306/9306), done.\n"
     ]
    }
   ],
   "source": [
    "import shutil\n",
    "\n",
    "# 圧縮するフォルダのパス\n",
    "source_folder = '/tmp/stable-diffusion-webui-reForge/outputs'\n",
    "\n",
    "# 出力するZIPファイルのパス\n",
    "output_zip = '/notebooks/outputs'\n",
    "\n",
    "# フォルダをZIPファイルとして圧縮\n",
    "shutil.make_archive(output_zip, 'zip', source_folder)\n",
    "\n",
    "print(f\"フォルダが圧縮され、{output_zip}.zip に配置されました。\")"
   ]
  }
 ],
 "metadata": {
  "kernelspec": {
   "display_name": "Python 3 (ipykernel)",
   "language": "python",
   "name": "python3"
  },
  "language_info": {
   "codemirror_mode": {
    "name": "ipython",
    "version": 3
   },
   "file_extension": ".py",
   "mimetype": "text/x-python",
   "name": "python",
   "nbconvert_exporter": "python",
   "pygments_lexer": "ipython3",
   "version": "3.10.12"
  }
 },
 "nbformat": 4,
 "nbformat_minor": 5
}
