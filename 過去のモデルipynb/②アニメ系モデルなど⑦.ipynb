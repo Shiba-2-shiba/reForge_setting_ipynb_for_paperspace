{
 "cells": [
  {
   "cell_type": "markdown",
   "id": "9e42bc1e-9825-4587-b533-c74607b1a377",
   "metadata": {},
   "source": [
    "## モデルアニメ系\n"
   ]
  },
  {
   "cell_type": "code",
   "execution_count": 1,
   "id": "6381569a-51b4-4303-a623-7f0b70104889",
   "metadata": {
    "execution": {
     "iopub.execute_input": "2024-11-24T23:53:02.403613Z",
     "iopub.status.busy": "2024-11-24T23:53:02.403090Z",
     "iopub.status.idle": "2024-11-25T00:09:16.994340Z",
     "shell.execute_reply": "2024-11-25T00:09:16.993461Z",
     "shell.execute_reply.started": "2024-11-24T23:53:02.403587Z"
    }
   },
   "outputs": [
    {
     "name": "stdout",
     "output_type": "stream",
     "text": [
      "Downloading model from https://huggingface.co/John6666/realism-illustrious-by-stable-yogi-v1fp16-sdxl/resolve/main to /tmp/stable-diffusion-webui-forge/models/Stable-diffusion/realism-illustrious-by-stable-yogi-v1fp16-sdxl\n",
      "Downloading model.safetensors from text_encoder:   0%|   | 0/100 [00:05<?, ?%/s]\n",
      "Downloading model.safetensors from text_encoder_2:   0%| | 0/100 [00:32<?, ?%/s]\n",
      "Downloading diffusion_pytorch_model.safetensors from unet:   0%| | 0/100 [02:02<\n",
      "Downloading diffusion_pytorch_model.safetensors from vae:   0%| | 0/100 [00:04<?\n",
      "Converting model:   0%|                                  | 0/100 [00:28<?, ?%/s]\n",
      "Directory successfully deleted\n",
      "Downloading model from https://huggingface.co/John6666/titania-mix-realistic-pony-illustrious-illustriousv10-sdxl/resolve/main to /tmp/stable-diffusion-webui-forge/models/Stable-diffusion/titania-mix-realistic-pony-illustrious-illustriousv10-sdxl\n",
      "Downloading model.safetensors from text_encoder:   0%|   | 0/100 [00:05<?, ?%/s]\n",
      "Downloading model.safetensors from text_encoder_2:   0%| | 0/100 [00:33<?, ?%/s]\n",
      "Downloading diffusion_pytorch_model.safetensors from unet:   0%| | 0/100 [02:02<\n",
      "Downloading diffusion_pytorch_model.safetensors from vae:   0%| | 0/100 [00:04<?\n",
      "Converting model:   0%|                                  | 0/100 [00:30<?, ?%/s]\n",
      "Directory successfully deleted\n",
      "Downloading model from https://huggingface.co/John6666/yomama-25d-illustrious-illustriousv10-sdxl/resolve/main to /tmp/stable-diffusion-webui-forge/models/Stable-diffusion/yomama-25d-illustrious-illustriousv10-sdxl\n",
      "Downloading model.safetensors from text_encoder:   0%|   | 0/100 [00:06<?, ?%/s]\n",
      "Downloading model.safetensors from text_encoder_2:   0%| | 0/100 [00:33<?, ?%/s]\n",
      "Downloading diffusion_pytorch_model.safetensors from unet:   0%| | 0/100 [02:02<\n",
      "Downloading diffusion_pytorch_model.safetensors from vae:   0%| | 0/100 [00:04<?\n",
      "Converting model:   0%|                                  | 0/100 [00:30<?, ?%/s]\n",
      "Directory successfully deleted\n",
      "Downloading model from https://huggingface.co/John6666/dominusnai-v10-sdxl/resolve/main to /tmp/stable-diffusion-webui-forge/models/Stable-diffusion/dominusnai-v10-sdxl\n",
      "Downloading model.safetensors from text_encoder:   0%|   | 0/100 [00:06<?, ?%/s]\n",
      "Downloading model.safetensors from text_encoder_2:   0%| | 0/100 [00:33<?, ?%/s]\n",
      "Downloading diffusion_pytorch_model.safetensors from unet:   0%| | 0/100 [02:02<\n",
      "Downloading diffusion_pytorch_model.safetensors from vae:   0%| | 0/100 [00:04<?\n",
      "Converting model:   0%|                                  | 0/100 [00:30<?, ?%/s]\n",
      "Directory successfully deleted\n",
      "Downloading model from https://huggingface.co/John6666/javermix-pony-cutewhite-v10-sdxl/resolve/main to /tmp/stable-diffusion-webui-forge/models/Stable-diffusion/javermix-pony-cutewhite-v10-sdxl\n",
      "Downloading model.safetensors from text_encoder:   0%|   | 0/100 [00:05<?, ?%/s]\n",
      "Downloading model.safetensors from text_encoder_2:   0%| | 0/100 [00:33<?, ?%/s]\n",
      "Downloading diffusion_pytorch_model.safetensors from unet:   0%| | 0/100 [02:02<\n",
      "Downloading diffusion_pytorch_model.safetensors from vae:   0%| | 0/100 [00:04<?\n",
      "Converting model:   0%|                                  | 0/100 [00:22<?, ?%/s]\n",
      "Directory successfully deleted\n"
     ]
    }
   ],
   "source": [
    "# Jupyter Notebook\n",
    "\n",
    "# モデルのURLとローカルパスのリスト\n",
    "models = [\n",
    "    {\n",
    "        \"base_url\": \"https://huggingface.co/John6666/realism-illustrious-by-stable-yogi-v1fp16-sdxl/resolve/main\",\n",
    "        \"base_path\": \"/tmp/stable-diffusion-webui-reForge/models/Stable-diffusion/realism-illustrious-by-stable-yogi-v1fp16-sdxl\"\n",
    "    },\n",
    "    {\n",
    "        \"base_url\": \"https://huggingface.co/John6666/titania-mix-realistic-pony-illustrious-illustriousv10-sdxl/resolve/main\",\n",
    "        \"base_path\": \"/tmp/stable-diffusion-webui-reForge/models/Stable-diffusion/titania-mix-realistic-pony-illustrious-illustriousv10-sdxl\"\n",
    "    },\n",
    "    {\n",
    "        \"base_url\": \"https://huggingface.co/John6666/yomama-25d-illustrious-illustriousv10-sdxl/resolve/main\",\n",
    "        \"base_path\": \"/tmp/stable-diffusion-webui-reForge/models/Stable-diffusion/yomama-25d-illustrious-illustriousv10-sdxl\"\n",
    "    },\n",
    "    {\n",
    "        \"base_url\": \"https://huggingface.co/John6666/dominusnai-v10-sdxl/resolve/main\",\n",
    "        \"base_path\": \"/tmp/stable-diffusion-webui-reForge/models/Stable-diffusion/dominusnai-v10-sdxl\"\n",
    "    },\n",
    "    {\n",
    "        \"base_url\": \"https://huggingface.co/John6666/javermix-pony-cutewhite-v10-sdxl/resolve/main\",\n",
    "        \"base_path\": \"/tmp/stable-diffusion-webui-reForge/models/Stable-diffusion/javermix-pony-cutewhite-v10-sdxl\"\n",
    "    }\n",
    "]\n",
    "\n",
    "# 各モデルについてスクリプトを実行\n",
    "for model in models:\n",
    "    base_url = model[\"base_url\"]\n",
    "    base_path = model[\"base_path\"]\n",
    "    print(f\"Downloading model from {base_url} to {base_path}\")\n",
    "    !python3 /usr/src/app/modeldownload_from_hugginface.py {base_url} {base_path}\n"
   ]
  }
 ],
 "metadata": {
  "kernelspec": {
   "display_name": "Python 3 (ipykernel)",
   "language": "python",
   "name": "python3"
  },
  "language_info": {
   "codemirror_mode": {
    "name": "ipython",
    "version": 3
   },
   "file_extension": ".py",
   "mimetype": "text/x-python",
   "name": "python",
   "nbconvert_exporter": "python",
   "pygments_lexer": "ipython3",
   "version": "3.10.12"
  }
 },
 "nbformat": 4,
 "nbformat_minor": 5
}
