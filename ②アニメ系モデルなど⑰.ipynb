{
 "cells": [
  {
   "cell_type": "markdown",
   "id": "9e42bc1e-9825-4587-b533-c74607b1a377",
   "metadata": {},
   "source": [
    "## モデルアニメ系\n"
   ]
  },
  {
   "cell_type": "code",
   "execution_count": null,
   "id": "6381569a-51b4-4303-a623-7f0b70104889",
   "metadata": {
    "execution": {
     "iopub.execute_input": "2025-01-01T18:06:11.669865Z",
     "iopub.status.busy": "2025-01-01T18:06:11.669263Z"
    }
   },
   "outputs": [
    {
     "name": "stdout",
     "output_type": "stream",
     "text": [
      "Downloading model from https://huggingface.co/John6666/parfum-hassaku-x-waikitty-parfumv10-sdxl/resolve/main to /tmp/stable-diffusion-webui-forge/models/Stable-diffusion/parfum-hassaku-x-waikitty-parfumv10-sdxl\n",
      "Downloading model.safetensors from text_encoder:   0%|   | 0/100 [00:06<?, ?%/s]\n",
      "Downloading model.safetensors from text_encoder_2:   0%| | 0/100 [00:00<?, ?%/s]^C\n",
      "Downloading model.safetensors from text_encoder_2:   0%| | 0/100 [00:08<?, ?%/s]\n",
      "Traceback (most recent call last):\n",
      "  File \"/usr/src/app/modeldownload_from_hugginface.py\", line 70, in <module>\n",
      "    main(base_url, base_path)\n",
      "  File \"/usr/src/app/modeldownload_from_hugginface.py\", line 48, in main\n",
      "    download_files(base_url, subdirs, base_path)\n",
      "  File \"/usr/src/app/modeldownload_from_hugginface.py\", line 17, in download_files\n",
      "    run_command(command, f\"Downloading {file_name} from {subdir}\")\n",
      "  File \"/usr/src/app/modeldownload_from_hugginface.py\", line 23, in run_command\n",
      "    for line in process.stderr:\n",
      "KeyboardInterrupt\n",
      "Downloading model from https://huggingface.co/John6666/supernova-mix-illustrious-v10-sdxl/resolve/main to /tmp/stable-diffusion-webui-forge/models/Stable-diffusion/supernova-mix-illustrious-v10-sdxl\n",
      "Downloading model.safetensors from text_encoder:   0%|   | 0/100 [00:00<?, ?%/s]^C\n",
      "Downloading model.safetensors from text_encoder:   0%|   | 0/100 [00:02<?, ?%/s]\n",
      "Traceback (most recent call last):\n",
      "  File \"/usr/src/app/modeldownload_from_hugginface.py\", line 70, in <module>\n",
      "    main(base_url, base_path)\n",
      "  File \"/usr/src/app/modeldownload_from_hugginface.py\", line 48, in main\n",
      "    download_files(base_url, subdirs, base_path)\n",
      "  File \"/usr/src/app/modeldownload_from_hugginface.py\", line 17, in download_files\n",
      "    run_command(command, f\"Downloading {file_name} from {subdir}\")\n",
      "  File \"/usr/src/app/modeldownload_from_hugginface.py\", line 23, in run_command\n",
      "    for line in process.stderr:\n",
      "KeyboardInterrupt\n",
      "Downloading model from https://huggingface.co/John6666/copycat-noob-vpredv101-sdxl/resolve/main to /tmp/stable-diffusion-webui-forge/models/Stable-diffusion/copycat-noob-vpredv101-sdxl\n",
      "Downloading model.safetensors from text_encoder:   0%|   | 0/100 [00:06<?, ?%/s]\n",
      "Downloading model.safetensors from text_encoder_2:   0%| | 0/100 [00:00<?, ?%/s]^C\n",
      "Downloading model.safetensors from text_encoder_2:   0%| | 0/100 [00:04<?, ?%/s]\n",
      "Traceback (most recent call last):\n",
      "  File \"/usr/src/app/modeldownload_from_hugginface.py\", line 70, in <module>\n",
      "    main(base_url, base_path)\n",
      "  File \"/usr/src/app/modeldownload_from_hugginface.py\", line 48, in main\n",
      "    download_files(base_url, subdirs, base_path)\n",
      "  File \"/usr/src/app/modeldownload_from_hugginface.py\", line 17, in download_files\n",
      "    run_command(command, f\"Downloading {file_name} from {subdir}\")\n",
      "  File \"/usr/src/app/modeldownload_from_hugginface.py\", line 23, in run_command\n",
      "    for line in process.stderr:\n",
      "KeyboardInterrupt\n",
      "Downloading model from https://huggingface.co/John6666//fn-mix-noob-xl-v14-sdxl/resolve/main to /tmp/stable-diffusion-webui-forge/models/Stable-diffusion/fn-mix-noob-xl-v14-sdxl\n",
      "Downloading model.safetensors from text_encoder:   0%|   | 0/100 [00:00<?, ?%/s]\n",
      "Downloading model.safetensors from text_encoder_2:   0%| | 0/100 [00:00<?, ?%/s]\n",
      "Downloading diffusion_pytorch_model.safetensors from unet:   0%| | 0/100 [00:00<\n",
      "Downloading diffusion_pytorch_model.safetensors from vae:   0%| | 0/100 [00:00<?\n",
      "Converting model:   0%|                                  | 0/100 [00:00<?, ?%/s]"
     ]
    }
   ],
   "source": [
    "# Jupyter Notebook\n",
    "\n",
    "# モデルのURLとローカルパスのリスト\n",
    "models = [\n",
    "    {\n",
    "        \"base_url\": \"https://huggingface.co/John6666/parfum-hassaku-x-waikitty-parfumv10-sdxl/resolve/main\",\n",
    "        \"base_path\": \"/tmp/stable-diffusion-webui-reForge/models/Stable-diffusion/parfum-hassaku-x-waikitty-parfumv10-sdxl\"\n",
    "    },\n",
    "    {\n",
    "        \"base_url\": \"https://huggingface.co/John6666/supernova-mix-illustrious-v10-sdxl/resolve/main\",\n",
    "        \"base_path\": \"/tmp/stable-diffusion-webui-reForge/models/Stable-diffusion/supernova-mix-illustrious-v10-sdxl\"\n",
    "    },\n",
    "    {\n",
    "        \"base_url\": \"https://huggingface.co/John6666/copycat-noob-vpredv101-sdxl/resolve/main\",\n",
    "        \"base_path\": \"/tmp/stable-diffusion-webui-reForge/models/Stable-diffusion/copycat-noob-vpredv101-sdxl\"\n",
    "    },\n",
    "    {\n",
    "        \"base_url\": \"https://huggingface.co/John6666//fn-mix-noob-xl-v14-sdxl/resolve/main\",\n",
    "        \"base_path\": \"/tmp/stable-diffusion-webui-reForge/models/Stable-diffusion/fn-mix-noob-xl-v14-sdxl\"\n",
    "    },\n",
    "    {\n",
    "        \"base_url\": \"https://huggingface.co/John6666/hoyori-idxl-checkpoint-waikitty-v10-sdxl/resolve/main\",\n",
    "        \"base_path\": \"/tmp/stable-diffusion-webui-reForge/models/Stable-diffusion/hoyori-idxl-checkpoint-waikitty-v10-sdxl\"\n",
    "    },\n",
    "    {\n",
    "        \"base_url\": \"https://huggingface.co/John6666/nova-anime-xl-ilv30happynewyear-sdxl/resolve/main\",\n",
    "        \"base_path\": \"/tmp/stable-diffusion-webui-reForge/models/Stable-diffusion/nova-anime-xl-ilv30happynewyear-sdxl\"\n",
    "    }\n",
    "]\n",
    "\n",
    "# 各モデルについてスクリプトを実行\n",
    "for model in models:\n",
    "    base_url = model[\"base_url\"]\n",
    "    base_path = model[\"base_path\"]\n",
    "    print(f\"Downloading model from {base_url} to {base_path}\")\n",
    "    !python3 /usr/src/app/modeldownload_from_hugginface.py {base_url} {base_path}\n"
   ]
  }
 ],
 "metadata": {
  "kernelspec": {
   "display_name": "Python 3 (ipykernel)",
   "language": "python",
   "name": "python3"
  },
  "language_info": {
   "codemirror_mode": {
    "name": "ipython",
    "version": 3
   },
   "file_extension": ".py",
   "mimetype": "text/x-python",
   "name": "python",
   "nbconvert_exporter": "python",
   "pygments_lexer": "ipython3",
   "version": "3.10.12"
  }
 },
 "nbformat": 4,
 "nbformat_minor": 5
}
