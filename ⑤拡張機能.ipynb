{
 "cells": [
  {
   "cell_type": "code",
   "execution_count": 2,
   "id": "03b2ea4a-ad1e-4ac0-93fe-8c5136383d59",
   "metadata": {
    "execution": {
     "iopub.execute_input": "2024-11-19T06:22:35.979963Z",
     "iopub.status.busy": "2024-11-19T06:22:35.979277Z",
     "iopub.status.idle": "2024-11-19T06:24:18.002138Z",
     "shell.execute_reply": "2024-11-19T06:24:18.001107Z",
     "shell.execute_reply.started": "2024-11-19T06:22:35.979931Z"
    }
   },
   "outputs": [
    {
     "name": "stdout",
     "output_type": "stream",
     "text": [
      "--2024-11-19 06:22:36--  https://huggingface.co/lllyasviel/sd_control_collection/resolve/main/diffusers_xl_depth_full.safetensors?download=true\n",
      "Resolving huggingface.co (huggingface.co)... 3.168.73.106, 3.168.73.129, 3.168.73.38, ...\n",
      "Connecting to huggingface.co (huggingface.co)|3.168.73.106|:443... connected.\n",
      "HTTP request sent, awaiting response... 302 Found\n",
      "Location: https://cdn-lfs.hf.co/repos/81/40/814074e4bf63cffbabe9980993334f8d53d66ee7207b7d9a482c916296779bd7/8ba4dfaa1958f1f68e5dc7f9839f9ef4e153aef0d330291e5cf966c925f97477?response-content-disposition=attachment%3B+filename*%3DUTF-8%27%27diffusers_xl_depth_full.safetensors%3B+filename%3D%22diffusers_xl_depth_full.safetensors%22%3B&Expires=1732256556&Policy=eyJTdGF0ZW1lbnQiOlt7IkNvbmRpdGlvbiI6eyJEYXRlTGVzc1RoYW4iOnsiQVdTOkVwb2NoVGltZSI6MTczMjI1NjU1Nn19LCJSZXNvdXJjZSI6Imh0dHBzOi8vY2RuLWxmcy5oZi5jby9yZXBvcy84MS80MC84MTQwNzRlNGJmNjNjZmZiYWJlOTk4MDk5MzMzNGY4ZDUzZDY2ZWU3MjA3YjdkOWE0ODJjOTE2Mjk2Nzc5YmQ3LzhiYTRkZmFhMTk1OGYxZjY4ZTVkYzdmOTgzOWY5ZWY0ZTE1M2FlZjBkMzMwMjkxZTVjZjk2NmM5MjVmOTc0Nzc%7EcmVzcG9uc2UtY29udGVudC1kaXNwb3NpdGlvbj0qIn1dfQ__&Signature=jrGs8EOHdh3nVId0Hj2325Jvizd75tsPKcifnEkg1kly%7EqsUXvjUFkVX3Wy8OBmWNpGKfnZGXmfR8G2UE8F0YkJnfxr9mXV%7EzjUXDBNh19-turD9rmb04hOCojpk%7EW1-A36xFUfLobw6%7ErCRJp7ue7dMPAE-Fzt9cDuWB6UIXnMdOIOIxXXrm0nm6WYNBMd69EbdQHoQ-529EVeuum7NykZKKl8rewoa4kV9Q0MGIAhSXdWmT9Uk1-CLSBFugAvJb9J1EA54I2rpPrAXDrvFwyWjDfYZFucEDQ63MNdKVfi3DvoKwo6harq526rNqakeJpGBOZPutESMVDGSPEClfg__&Key-Pair-Id=K3RPWS32NSSJCE [following]\n",
      "--2024-11-19 06:22:36--  https://cdn-lfs.hf.co/repos/81/40/814074e4bf63cffbabe9980993334f8d53d66ee7207b7d9a482c916296779bd7/8ba4dfaa1958f1f68e5dc7f9839f9ef4e153aef0d330291e5cf966c925f97477?response-content-disposition=attachment%3B+filename*%3DUTF-8%27%27diffusers_xl_depth_full.safetensors%3B+filename%3D%22diffusers_xl_depth_full.safetensors%22%3B&Expires=1732256556&Policy=eyJTdGF0ZW1lbnQiOlt7IkNvbmRpdGlvbiI6eyJEYXRlTGVzc1RoYW4iOnsiQVdTOkVwb2NoVGltZSI6MTczMjI1NjU1Nn19LCJSZXNvdXJjZSI6Imh0dHBzOi8vY2RuLWxmcy5oZi5jby9yZXBvcy84MS80MC84MTQwNzRlNGJmNjNjZmZiYWJlOTk4MDk5MzMzNGY4ZDUzZDY2ZWU3MjA3YjdkOWE0ODJjOTE2Mjk2Nzc5YmQ3LzhiYTRkZmFhMTk1OGYxZjY4ZTVkYzdmOTgzOWY5ZWY0ZTE1M2FlZjBkMzMwMjkxZTVjZjk2NmM5MjVmOTc0Nzc%7EcmVzcG9uc2UtY29udGVudC1kaXNwb3NpdGlvbj0qIn1dfQ__&Signature=jrGs8EOHdh3nVId0Hj2325Jvizd75tsPKcifnEkg1kly%7EqsUXvjUFkVX3Wy8OBmWNpGKfnZGXmfR8G2UE8F0YkJnfxr9mXV%7EzjUXDBNh19-turD9rmb04hOCojpk%7EW1-A36xFUfLobw6%7ErCRJp7ue7dMPAE-Fzt9cDuWB6UIXnMdOIOIxXXrm0nm6WYNBMd69EbdQHoQ-529EVeuum7NykZKKl8rewoa4kV9Q0MGIAhSXdWmT9Uk1-CLSBFugAvJb9J1EA54I2rpPrAXDrvFwyWjDfYZFucEDQ63MNdKVfi3DvoKwo6harq526rNqakeJpGBOZPutESMVDGSPEClfg__&Key-Pair-Id=K3RPWS32NSSJCE\n",
      "Resolving cdn-lfs.hf.co (cdn-lfs.hf.co)... 18.238.55.27, 18.238.55.10, 18.238.55.119, ...\n",
      "Connecting to cdn-lfs.hf.co (cdn-lfs.hf.co)|18.238.55.27|:443... connected.\n",
      "HTTP request sent, awaiting response... 200 OK\n",
      "Length: 2502139104 (2.3G) [binary/octet-stream]\n",
      "Saving to: ‘diffusers_xl_depth_full.safetensors’\n",
      "\n",
      "diffusers_xl_depth_ 100%[===================>]   2.33G   204MB/s    in 12s     \n",
      "\n",
      "2024-11-19 06:22:47 (206 MB/s) - ‘diffusers_xl_depth_full.safetensors’ saved [2502139104/2502139104]\n",
      "\n",
      "--2024-11-19 06:22:47--  https://huggingface.co/lllyasviel/sd_control_collection/resolve/main/ip-adapter_xl.pth?download=true\n",
      "Resolving huggingface.co (huggingface.co)... 3.168.73.106, 3.168.73.111, 3.168.73.38, ...\n",
      "Connecting to huggingface.co (huggingface.co)|3.168.73.106|:443... connected.\n",
      "HTTP request sent, awaiting response... 302 Found\n",
      "Location: https://cdn-lfs.hf.co/repos/81/40/814074e4bf63cffbabe9980993334f8d53d66ee7207b7d9a482c916296779bd7/c2e9f1ed4ff231b9f78de8158d63ac4b031e599d26d524e9171ccb9c16305fc3?response-content-disposition=attachment%3B+filename*%3DUTF-8%27%27ip-adapter_xl.pth%3B+filename%3D%22ip-adapter_xl.pth%22%3B&Expires=1732256567&Policy=eyJTdGF0ZW1lbnQiOlt7IkNvbmRpdGlvbiI6eyJEYXRlTGVzc1RoYW4iOnsiQVdTOkVwb2NoVGltZSI6MTczMjI1NjU2N319LCJSZXNvdXJjZSI6Imh0dHBzOi8vY2RuLWxmcy5oZi5jby9yZXBvcy84MS80MC84MTQwNzRlNGJmNjNjZmZiYWJlOTk4MDk5MzMzNGY4ZDUzZDY2ZWU3MjA3YjdkOWE0ODJjOTE2Mjk2Nzc5YmQ3L2MyZTlmMWVkNGZmMjMxYjlmNzhkZTgxNThkNjNhYzRiMDMxZTU5OWQyNmQ1MjRlOTE3MWNjYjljMTYzMDVmYzM%7EcmVzcG9uc2UtY29udGVudC1kaXNwb3NpdGlvbj0qIn1dfQ__&Signature=vWUSAHcRBzpPHLYwO-XqFdCQFUR5p-LtokU2%7EIxgAbQAvEoeQuI2IY%7ERjs0eVj%7E%7EYX%7ElDGQ9UHCOPKapm6zLA2IemcJ29zoW97PtUPFFNCaMgo8EZFxpREPSVATvLqDWmW2pbPaVOUftiMFAXEtB5YI3A23Hebb67zN5B3rsHvVB1CCwqhlZQlvozwA-WDV5DpU4z%7E5PYJRcU2zIdJx5MLki1Mq5ZAN6A7HdTGh2-hVkamnXmnWEpahTS5555M7YazJ7MdorroCq3pPaw-CRTRxH6Zmu2XrgPOr4P3G1FrohsmQqlrOMmvZVkT8jJy9hiL79W6QT2Ech9y%7ENcx4jxw__&Key-Pair-Id=K3RPWS32NSSJCE [following]\n",
      "--2024-11-19 06:22:47--  https://cdn-lfs.hf.co/repos/81/40/814074e4bf63cffbabe9980993334f8d53d66ee7207b7d9a482c916296779bd7/c2e9f1ed4ff231b9f78de8158d63ac4b031e599d26d524e9171ccb9c16305fc3?response-content-disposition=attachment%3B+filename*%3DUTF-8%27%27ip-adapter_xl.pth%3B+filename%3D%22ip-adapter_xl.pth%22%3B&Expires=1732256567&Policy=eyJTdGF0ZW1lbnQiOlt7IkNvbmRpdGlvbiI6eyJEYXRlTGVzc1RoYW4iOnsiQVdTOkVwb2NoVGltZSI6MTczMjI1NjU2N319LCJSZXNvdXJjZSI6Imh0dHBzOi8vY2RuLWxmcy5oZi5jby9yZXBvcy84MS80MC84MTQwNzRlNGJmNjNjZmZiYWJlOTk4MDk5MzMzNGY4ZDUzZDY2ZWU3MjA3YjdkOWE0ODJjOTE2Mjk2Nzc5YmQ3L2MyZTlmMWVkNGZmMjMxYjlmNzhkZTgxNThkNjNhYzRiMDMxZTU5OWQyNmQ1MjRlOTE3MWNjYjljMTYzMDVmYzM%7EcmVzcG9uc2UtY29udGVudC1kaXNwb3NpdGlvbj0qIn1dfQ__&Signature=vWUSAHcRBzpPHLYwO-XqFdCQFUR5p-LtokU2%7EIxgAbQAvEoeQuI2IY%7ERjs0eVj%7E%7EYX%7ElDGQ9UHCOPKapm6zLA2IemcJ29zoW97PtUPFFNCaMgo8EZFxpREPSVATvLqDWmW2pbPaVOUftiMFAXEtB5YI3A23Hebb67zN5B3rsHvVB1CCwqhlZQlvozwA-WDV5DpU4z%7E5PYJRcU2zIdJx5MLki1Mq5ZAN6A7HdTGh2-hVkamnXmnWEpahTS5555M7YazJ7MdorroCq3pPaw-CRTRxH6Zmu2XrgPOr4P3G1FrohsmQqlrOMmvZVkT8jJy9hiL79W6QT2Ech9y%7ENcx4jxw__&Key-Pair-Id=K3RPWS32NSSJCE\n",
      "Resolving cdn-lfs.hf.co (cdn-lfs.hf.co)... 18.238.55.27, 18.238.55.49, 18.238.55.10, ...\n",
      "Connecting to cdn-lfs.hf.co (cdn-lfs.hf.co)|18.238.55.27|:443... connected.\n",
      "HTTP request sent, awaiting response... 200 OK\n",
      "Length: 702585021 (670M) [binary/octet-stream]\n",
      "Saving to: ‘ip-adapter_xl.pth’\n",
      "\n",
      "ip-adapter_xl.pth   100%[===================>] 670.04M   205MB/s    in 3.3s    \n",
      "\n",
      "2024-11-19 06:22:51 (205 MB/s) - ‘ip-adapter_xl.pth’ saved [702585021/702585021]\n",
      "\n",
      "######################################################################### 100.0%                       67.5%\n",
      "######################################################################### 100.0%\n",
      "--2024-11-19 06:24:05--  https://huggingface.co/2vXpSwA7/iroiro-lora/resolve/main/test_controlnet2/CN-posetest_v2.safetensors?download=true\n",
      "Resolving huggingface.co (huggingface.co)... 3.168.73.106, 3.168.73.129, 3.168.73.38, ...\n",
      "Connecting to huggingface.co (huggingface.co)|3.168.73.106|:443... connected.\n",
      "HTTP request sent, awaiting response... 302 Found\n",
      "Location: https://cdn-lfs.hf.co/repos/37/27/3727e32d95a87e0694889e321ad0bfb1a2b80ba5c1c87be27d7fa907a10ad817/cd894abd7907d03bde1ab9dd95807cd6a40c65be28b4a1838487ece33356a6b3?response-content-disposition=attachment%3B+filename*%3DUTF-8%27%27CN-posetest_v2.safetensors%3B+filename%3D%22CN-posetest_v2.safetensors%22%3B&Expires=1732256645&Policy=eyJTdGF0ZW1lbnQiOlt7IkNvbmRpdGlvbiI6eyJEYXRlTGVzc1RoYW4iOnsiQVdTOkVwb2NoVGltZSI6MTczMjI1NjY0NX19LCJSZXNvdXJjZSI6Imh0dHBzOi8vY2RuLWxmcy5oZi5jby9yZXBvcy8zNy8yNy8zNzI3ZTMyZDk1YTg3ZTA2OTQ4ODllMzIxYWQwYmZiMWEyYjgwYmE1YzFjODdiZTI3ZDdmYTkwN2ExMGFkODE3L2NkODk0YWJkNzkwN2QwM2JkZTFhYjlkZDk1ODA3Y2Q2YTQwYzY1YmUyOGI0YTE4Mzg0ODdlY2UzMzM1NmE2YjM%7EcmVzcG9uc2UtY29udGVudC1kaXNwb3NpdGlvbj0qIn1dfQ__&Signature=DtvbnSP8sTsOkImlZ7XrIhEbI3ikNa64i%7EqZmV9NBgaw6O5121NSobXtWS4vxTK-3z3D8MAym3kPJR7675jh5p%7EtfunfDqr63Rog0rTEL1blRWuEU56agPdKdsEDbcvITm4FUckinJZqBUABVEVTu-Ysl1qFStr1Y5QFa5EQ69MVkTo2x5txq4E1kyfNEZpIYkcUMsikxC%7EVSRvirKIeYShA-kM%7EwjJ1StcqTsIWZvC3%7E%7ExWX3I1seh3300MDbMgInBrGzxo9-rE%7Eq0gLoEom--z4d8q2BcwLNypuJh7ES62AW%7EJ8LVB1HhSS1xdM2GmBUSHXGEZarbYo7Dn6YILOQ__&Key-Pair-Id=K3RPWS32NSSJCE [following]\n",
      "--2024-11-19 06:24:05--  https://cdn-lfs.hf.co/repos/37/27/3727e32d95a87e0694889e321ad0bfb1a2b80ba5c1c87be27d7fa907a10ad817/cd894abd7907d03bde1ab9dd95807cd6a40c65be28b4a1838487ece33356a6b3?response-content-disposition=attachment%3B+filename*%3DUTF-8%27%27CN-posetest_v2.safetensors%3B+filename%3D%22CN-posetest_v2.safetensors%22%3B&Expires=1732256645&Policy=eyJTdGF0ZW1lbnQiOlt7IkNvbmRpdGlvbiI6eyJEYXRlTGVzc1RoYW4iOnsiQVdTOkVwb2NoVGltZSI6MTczMjI1NjY0NX19LCJSZXNvdXJjZSI6Imh0dHBzOi8vY2RuLWxmcy5oZi5jby9yZXBvcy8zNy8yNy8zNzI3ZTMyZDk1YTg3ZTA2OTQ4ODllMzIxYWQwYmZiMWEyYjgwYmE1YzFjODdiZTI3ZDdmYTkwN2ExMGFkODE3L2NkODk0YWJkNzkwN2QwM2JkZTFhYjlkZDk1ODA3Y2Q2YTQwYzY1YmUyOGI0YTE4Mzg0ODdlY2UzMzM1NmE2YjM%7EcmVzcG9uc2UtY29udGVudC1kaXNwb3NpdGlvbj0qIn1dfQ__&Signature=DtvbnSP8sTsOkImlZ7XrIhEbI3ikNa64i%7EqZmV9NBgaw6O5121NSobXtWS4vxTK-3z3D8MAym3kPJR7675jh5p%7EtfunfDqr63Rog0rTEL1blRWuEU56agPdKdsEDbcvITm4FUckinJZqBUABVEVTu-Ysl1qFStr1Y5QFa5EQ69MVkTo2x5txq4E1kyfNEZpIYkcUMsikxC%7EVSRvirKIeYShA-kM%7EwjJ1StcqTsIWZvC3%7E%7ExWX3I1seh3300MDbMgInBrGzxo9-rE%7Eq0gLoEom--z4d8q2BcwLNypuJh7ES62AW%7EJ8LVB1HhSS1xdM2GmBUSHXGEZarbYo7Dn6YILOQ__&Key-Pair-Id=K3RPWS32NSSJCE\n",
      "Resolving cdn-lfs.hf.co (cdn-lfs.hf.co)... 18.238.55.27, 18.238.55.119, 18.238.55.10, ...\n",
      "Connecting to cdn-lfs.hf.co (cdn-lfs.hf.co)|18.238.55.27|:443... connected.\n",
      "HTTP request sent, awaiting response... 200 OK\n",
      "Length: 2502139104 (2.3G) [binary/octet-stream]\n",
      "Saving to: ‘CN-posetest_v2.safetensors’\n",
      "\n",
      "CN-posetest_v2.safe 100%[===================>]   2.33G   127MB/s    in 13s     \n",
      "\n",
      "2024-11-19 06:24:17 (190 MB/s) - ‘CN-posetest_v2.safetensors’ saved [2502139104/2502139104]\n",
      "\n"
     ]
    }
   ],
   "source": [
    "# コントロールネットDEPTHfull\n",
    "!cd /tmp/stable-diffusion-webui-reForge/models/ControlNet && \\\n",
    "wget -nc https://huggingface.co/lllyasviel/sd_control_collection/resolve/main/diffusers_xl_depth_full.safetensors?download=true -O diffusers_xl_depth_full.safetensors\n",
    "\n",
    "# コントロールネットip-adapter\n",
    "!cd /tmp/stable-diffusion-webui-reForge/models/ControlNet && \\\n",
    "wget -nc https://huggingface.co/lllyasviel/sd_control_collection/resolve/main/ip-adapter_xl.pth?download=true -O ip-adapter_xl.pth\n",
    "\n",
    "# コントロールネットmistoline\n",
    "!cd /tmp/stable-diffusion-webui-reForge/models/ControlNet && \\\n",
    "curl --progress-bar -L -o mistoLine_fp16.safetensors https://huggingface.co/TheMistoAI/MistoLine/resolve/main/mistoLine_fp16.safetensors?download=true\n",
    "\n",
    "# anytest\n",
    "!cd /tmp/stable-diffusion-webui-reForge/models/ControlNet && \\\n",
    "curl --progress-bar -L -o CN-anytest_v4-marged.safetensors https://huggingface.co/2vXpSwA7/iroiro-lora/resolve/main/test_controlnet2/CN-anytest_v4-marged.safetensors?download=true\n",
    "\n",
    "# コントロールネットip-adapter\n",
    "!cd /tmp/stable-diffusion-webui-reForge/models/ControlNet && \\\n",
    "wget -nc https://huggingface.co/2vXpSwA7/iroiro-lora/resolve/main/test_controlnet2/CN-posetest_v2.safetensors?download=true -O CN-posetest_v2.safetensors"
   ]
  },
  {
   "cell_type": "code",
   "execution_count": 4,
   "id": "9b11b56b-54b1-4db2-b7e8-efa8feecc58b",
   "metadata": {
    "execution": {
     "iopub.execute_input": "2024-11-26T05:06:15.971597Z",
     "iopub.status.busy": "2024-11-26T05:06:15.971299Z",
     "iopub.status.idle": "2024-11-26T05:06:19.164973Z",
     "shell.execute_reply": "2024-11-26T05:06:19.164356Z",
     "shell.execute_reply.started": "2024-11-26T05:06:15.971576Z"
    }
   },
   "outputs": [
    {
     "name": "stdout",
     "output_type": "stream",
     "text": [
      "/tmp\n",
      "/tmp/stable-diffusion-webui-reForge/extensions\n",
      "Cloning into 'sd-forge-deforum'...\n",
      "remote: Enumerating objects: 14849, done.\u001b[K\n",
      "remote: Counting objects: 100% (14849/14849), done.\u001b[K\n",
      "remote: Compressing objects: 100% (5609/5609), done.\u001b[K\n",
      "remote: Total 14849 (delta 9306), reused 14498 (delta 9170), pack-reused 0 (from 0)\u001b[K\n",
      "Receiving objects: 100% (14849/14849), 129.19 MiB | 60.71 MiB/s, done.\n",
      "Resolving deltas: 100% (9306/9306), done.\n"
     ]
    }
   ],
   "source": [
    "%cd /tmp\n",
    "!rm -rf stable-diffusion-webui-reForge/extensions/sd-forge-deforum\n",
    "%cd /tmp/stable-diffusion-webui-reForge/extensions\n",
    "!git clone https://github.com/deforum-art/sd-forge-deforum"
   ]
  },
  {
   "cell_type": "code",
   "execution_count": 3,
   "id": "d7b3764d-196f-4afc-99e9-c2cf86060f67",
   "metadata": {
    "execution": {
     "iopub.execute_input": "2024-11-19T06:35:13.636943Z",
     "iopub.status.busy": "2024-11-19T06:35:13.636385Z",
     "iopub.status.idle": "2024-11-19T06:35:22.596448Z",
     "shell.execute_reply": "2024-11-19T06:35:22.595935Z",
     "shell.execute_reply.started": "2024-11-19T06:35:13.636918Z"
    }
   },
   "outputs": [
    {
     "name": "stdout",
     "output_type": "stream",
     "text": [
      "Requirement already satisfied: timm==0.6.7 in /usr/local/lib/python3.10/dist-packages (0.6.7)\n",
      "Requirement already satisfied: torch>=1.4 in /usr/local/lib/python3.10/dist-packages (from timm==0.6.7) (2.4.1+cu124)\n",
      "Requirement already satisfied: torchvision in /usr/local/lib/python3.10/dist-packages (from timm==0.6.7) (0.19.1+cu124)\n",
      "Requirement already satisfied: filelock in /usr/local/lib/python3.10/dist-packages (from torch>=1.4->timm==0.6.7) (3.16.1)\n",
      "Requirement already satisfied: typing-extensions>=4.8.0 in /usr/local/lib/python3.10/dist-packages (from torch>=1.4->timm==0.6.7) (4.12.2)\n",
      "Requirement already satisfied: sympy in /usr/local/lib/python3.10/dist-packages (from torch>=1.4->timm==0.6.7) (1.13.3)\n",
      "Requirement already satisfied: networkx in /usr/local/lib/python3.10/dist-packages (from torch>=1.4->timm==0.6.7) (3.4.2)\n",
      "Requirement already satisfied: jinja2 in /usr/local/lib/python3.10/dist-packages (from torch>=1.4->timm==0.6.7) (3.1.4)\n",
      "Requirement already satisfied: fsspec in /usr/local/lib/python3.10/dist-packages (from torch>=1.4->timm==0.6.7) (2024.3.1)\n",
      "Requirement already satisfied: nvidia-cuda-nvrtc-cu12==12.4.99 in /usr/local/lib/python3.10/dist-packages (from torch>=1.4->timm==0.6.7) (12.4.99)\n",
      "Requirement already satisfied: nvidia-cuda-runtime-cu12==12.4.99 in /usr/local/lib/python3.10/dist-packages (from torch>=1.4->timm==0.6.7) (12.4.99)\n",
      "Requirement already satisfied: nvidia-cuda-cupti-cu12==12.4.99 in /usr/local/lib/python3.10/dist-packages (from torch>=1.4->timm==0.6.7) (12.4.99)\n",
      "Requirement already satisfied: nvidia-cudnn-cu12==9.1.0.70 in /usr/local/lib/python3.10/dist-packages (from torch>=1.4->timm==0.6.7) (9.1.0.70)\n",
      "Requirement already satisfied: nvidia-cublas-cu12==12.4.2.65 in /usr/local/lib/python3.10/dist-packages (from torch>=1.4->timm==0.6.7) (12.4.2.65)\n",
      "Requirement already satisfied: nvidia-cufft-cu12==11.2.0.44 in /usr/local/lib/python3.10/dist-packages (from torch>=1.4->timm==0.6.7) (11.2.0.44)\n",
      "Requirement already satisfied: nvidia-curand-cu12==10.3.5.119 in /usr/local/lib/python3.10/dist-packages (from torch>=1.4->timm==0.6.7) (10.3.5.119)\n",
      "Requirement already satisfied: nvidia-cusolver-cu12==11.6.0.99 in /usr/local/lib/python3.10/dist-packages (from torch>=1.4->timm==0.6.7) (11.6.0.99)\n",
      "Requirement already satisfied: nvidia-cusparse-cu12==12.3.0.142 in /usr/local/lib/python3.10/dist-packages (from torch>=1.4->timm==0.6.7) (12.3.0.142)\n",
      "Requirement already satisfied: nvidia-nccl-cu12==2.20.5 in /usr/local/lib/python3.10/dist-packages (from torch>=1.4->timm==0.6.7) (2.20.5)\n",
      "Requirement already satisfied: nvidia-nvtx-cu12==12.4.99 in /usr/local/lib/python3.10/dist-packages (from torch>=1.4->timm==0.6.7) (12.4.99)\n",
      "Requirement already satisfied: nvidia-nvjitlink-cu12==12.4.99 in /usr/local/lib/python3.10/dist-packages (from torch>=1.4->timm==0.6.7) (12.4.99)\n",
      "Requirement already satisfied: triton==3.0.0 in /usr/local/lib/python3.10/dist-packages (from torch>=1.4->timm==0.6.7) (3.0.0)\n",
      "Requirement already satisfied: numpy in /usr/local/lib/python3.10/dist-packages (from torchvision->timm==0.6.7) (1.26.2)\n",
      "Requirement already satisfied: pillow!=8.3.*,>=5.3.0 in /usr/local/lib/python3.10/dist-packages (from torchvision->timm==0.6.7) (9.5.0)\n",
      "Requirement already satisfied: MarkupSafe>=2.0 in /usr/local/lib/python3.10/dist-packages (from jinja2->torch>=1.4->timm==0.6.7) (2.1.5)\n",
      "Requirement already satisfied: mpmath<1.4,>=1.1.0 in /usr/local/lib/python3.10/dist-packages (from sympy->torch>=1.4->timm==0.6.7) (1.3.0)\n",
      "\u001b[33mWARNING: Running pip as the 'root' user can result in broken permissions and conflicting behaviour with the system package manager, possibly rendering your system unusable.It is recommended to use a virtual environment instead: https://pip.pypa.io/warnings/venv. Use the --root-user-action option if you know what you are doing and want to suppress this warning.\u001b[0m\u001b[33m\n",
      "\u001b[0mFound existing installation: opencv-python 4.9.0.80\n",
      "Uninstalling opencv-python-4.9.0.80:\n",
      "  Successfully uninstalled opencv-python-4.9.0.80\n",
      "\u001b[33mWARNING: Running pip as the 'root' user can result in broken permissions and conflicting behaviour with the system package manager, possibly rendering your system unusable.It is recommended to use a virtual environment instead: https://pip.pypa.io/warnings/venv. Use the --root-user-action option if you know what you are doing and want to suppress this warning.\u001b[0m\u001b[33m\n",
      "\u001b[0mFound existing installation: opencv-python-headless 4.9.0.80\n",
      "Uninstalling opencv-python-headless-4.9.0.80:\n",
      "  Successfully uninstalled opencv-python-headless-4.9.0.80\n",
      "\u001b[33mWARNING: Running pip as the 'root' user can result in broken permissions and conflicting behaviour with the system package manager, possibly rendering your system unusable.It is recommended to use a virtual environment instead: https://pip.pypa.io/warnings/venv. Use the --root-user-action option if you know what you are doing and want to suppress this warning.\u001b[0m\u001b[33m\n",
      "\u001b[0mCollecting opencv-python==4.9.0.80\n",
      "  Downloading opencv_python-4.9.0.80-cp37-abi3-manylinux_2_17_x86_64.manylinux2014_x86_64.whl.metadata (20 kB)\n",
      "Requirement already satisfied: numpy>=1.21.2 in /usr/local/lib/python3.10/dist-packages (from opencv-python==4.9.0.80) (1.26.2)\n",
      "Downloading opencv_python-4.9.0.80-cp37-abi3-manylinux_2_17_x86_64.manylinux2014_x86_64.whl (62.2 MB)\n",
      "\u001b[2K   \u001b[90m━━━━━━━━━━━━━━━━━━━━━━━━━━━━━━━━━━━━━━━━\u001b[0m \u001b[32m62.2/62.2 MB\u001b[0m \u001b[31m147.6 MB/s\u001b[0m eta \u001b[36m0:00:00\u001b[0m00:01\u001b[0m00:01\u001b[0m\n",
      "\u001b[?25hInstalling collected packages: opencv-python\n",
      "Successfully installed opencv-python-4.9.0.80\n",
      "\u001b[33mWARNING: Running pip as the 'root' user can result in broken permissions and conflicting behaviour with the system package manager, possibly rendering your system unusable.It is recommended to use a virtual environment instead: https://pip.pypa.io/warnings/venv. Use the --root-user-action option if you know what you are doing and want to suppress this warning.\u001b[0m\u001b[33m\n",
      "\u001b[0mCollecting opencv-python-headless==4.9.0.80\n",
      "  Downloading opencv_python_headless-4.9.0.80-cp37-abi3-manylinux_2_17_x86_64.manylinux2014_x86_64.whl.metadata (20 kB)\n",
      "Requirement already satisfied: numpy>=1.21.2 in /usr/local/lib/python3.10/dist-packages (from opencv-python-headless==4.9.0.80) (1.26.2)\n",
      "Downloading opencv_python_headless-4.9.0.80-cp37-abi3-manylinux_2_17_x86_64.manylinux2014_x86_64.whl (49.6 MB)\n",
      "\u001b[2K   \u001b[90m━━━━━━━━━━━━━━━━━━━━━━━━━━━━━━━━━━━━━━━━\u001b[0m \u001b[32m49.6/49.6 MB\u001b[0m \u001b[31m152.5 MB/s\u001b[0m eta \u001b[36m0:00:00\u001b[0ma \u001b[36m0:00:01\u001b[0m\n",
      "\u001b[?25hInstalling collected packages: opencv-python-headless\n",
      "Successfully installed opencv-python-headless-4.9.0.80\n",
      "\u001b[33mWARNING: Running pip as the 'root' user can result in broken permissions and conflicting behaviour with the system package manager, possibly rendering your system unusable.It is recommended to use a virtual environment instead: https://pip.pypa.io/warnings/venv. Use the --root-user-action option if you know what you are doing and want to suppress this warning.\u001b[0m\u001b[33m\n",
      "\u001b[0m"
     ]
    }
   ],
   "source": [
    "!pip install timm==0.6.7\n",
    "!pip uninstall -y opencv-python\n",
    "!pip uninstall -y opencv-python-headless\n",
    "!pip install opencv-python==4.9.0.80\n",
    "!pip install opencv-python-headless==4.9.0.80"
   ]
  }
 ],
 "metadata": {
  "kernelspec": {
   "display_name": "Python 3 (ipykernel)",
   "language": "python",
   "name": "python3"
  },
  "language_info": {
   "codemirror_mode": {
    "name": "ipython",
    "version": 3
   },
   "file_extension": ".py",
   "mimetype": "text/x-python",
   "name": "python",
   "nbconvert_exporter": "python",
   "pygments_lexer": "ipython3",
   "version": "3.10.12"
  }
 },
 "nbformat": 4,
 "nbformat_minor": 5
}
