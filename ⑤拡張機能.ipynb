{
 "cells": [
  {
   "cell_type": "code",
   "execution_count": 2,
   "id": "2ebed44d-3d10-4321-954e-dd8d29e34b0a",
   "metadata": {
    "execution": {
     "iopub.execute_input": "2025-01-01T18:22:00.027648Z",
     "iopub.status.busy": "2025-01-01T18:22:00.027215Z",
     "iopub.status.idle": "2025-01-01T18:22:03.983855Z",
     "shell.execute_reply": "2025-01-01T18:22:03.982927Z",
     "shell.execute_reply.started": "2025-01-01T18:22:00.027564Z"
    }
   },
   "outputs": [
    {
     "name": "stdout",
     "output_type": "stream",
     "text": [
      "/tmp/stable-diffusion-webui-forge/extensions\n",
      "fatal: destination path 'forgeFlux_dualPrompt' already exists and is not an empty directory.\n",
      "/tmp/stable-diffusion-webui-forge/extensions\n",
      "fatal: destination path 'z-tipo-extension' already exists and is not an empty directory.\n",
      "/tmp/stable-diffusion-webui-forge/extensions\n",
      "fatal: destination path 'sd-forge-deforum' already exists and is not an empty directory.\n",
      "/tmp/stable-diffusion-webui-forge/extensions\n",
      "Cloning into 'a1111-sd-webui-tagcomplete'...\n",
      "remote: Enumerating objects: 2415, done.\u001b[K\n",
      "remote: Counting objects: 100% (709/709), done.\u001b[K\n",
      "remote: Compressing objects: 100% (295/295), done.\u001b[K\n",
      "remote: Total 2415 (delta 445), reused 423 (delta 414), pack-reused 1706 (from 3)\u001b[K\n",
      "Receiving objects: 100% (2415/2415), 9.88 MiB | 25.43 MiB/s, done.\n",
      "Resolving deltas: 100% (1549/1549), done.\n",
      "/tmp/stable-diffusion-webui-forge/extensions\n",
      "Cloning into 'adetailer'...\n",
      "remote: Enumerating objects: 3034, done.\u001b[K\n",
      "remote: Counting objects: 100% (947/947), done.\u001b[K\n",
      "remote: Compressing objects: 100% (109/109), done.\u001b[K\n",
      "remote: Total 3034 (delta 896), reused 840 (delta 838), pack-reused 2087 (from 2)\u001b[K\n",
      "Receiving objects: 100% (3034/3034), 544.25 KiB | 9.55 MiB/s, done.\n",
      "Resolving deltas: 100% (1775/1775), done.\n",
      "/tmp/stable-diffusion-webui-forge/extensions\n",
      "Cloning into '--sd-webui-ar-plusplus'...\n",
      "remote: Enumerating objects: 339, done.\u001b[K\n",
      "remote: Counting objects: 100% (91/91), done.\u001b[K\n",
      "remote: Compressing objects: 100% (43/43), done.\u001b[K\n",
      "remote: Total 339 (delta 52), reused 48 (delta 48), pack-reused 248 (from 2)\u001b[K\n",
      "Receiving objects: 100% (339/339), 73.70 KiB | 8.19 MiB/s, done.\n",
      "Resolving deltas: 100% (154/154), done.\n",
      "/tmp/stable-diffusion-webui-forge/extensions\n",
      "Cloning into 'sd-webui-cd-tuner'...\n",
      "remote: Enumerating objects: 217, done.\u001b[K\n",
      "remote: Counting objects: 100% (141/141), done.\u001b[K\n",
      "remote: Compressing objects: 100% (84/84), done.\u001b[K\n",
      "remote: Total 217 (delta 58), reused 89 (delta 30), pack-reused 76 (from 1)\u001b[K\n",
      "Receiving objects: 100% (217/217), 30.78 MiB | 54.16 MiB/s, done.\n",
      "Resolving deltas: 100% (77/77), done.\n",
      "/tmp/stable-diffusion-webui-forge/extensions\n",
      "Cloning into 'sd-webui-negpip'...\n",
      "remote: Enumerating objects: 275, done.\u001b[K\n",
      "remote: Counting objects: 100% (95/95), done.\u001b[K\n",
      "remote: Compressing objects: 100% (39/39), done.\u001b[K\n",
      "remote: Total 275 (delta 71), reused 56 (delta 50), pack-reused 180 (from 1)\u001b[K\n",
      "Receiving objects: 100% (275/275), 2.92 MiB | 43.40 MiB/s, done.\n",
      "Resolving deltas: 100% (118/118), done.\n",
      "/tmp/stable-diffusion-webui-forge/extensions\n",
      "Cloning into 'stable-diffusion-webui-wd14-tagger'...\n",
      "remote: Enumerating objects: 1490, done.\u001b[K\n",
      "remote: Counting objects: 100% (612/612), done.\u001b[K\n",
      "remote: Compressing objects: 100% (91/91), done.\u001b[K\n",
      "remote: Total 1490 (delta 574), reused 521 (delta 521), pack-reused 878 (from 1)\u001b[K\n",
      "Receiving objects: 100% (1490/1490), 1.30 MiB | 10.65 MiB/s, done.\n",
      "Resolving deltas: 100% (995/995), done.\n"
     ]
    }
   ],
   "source": [
    "%cd /tmp\n",
    "!rm -rf stable-diffusion-webui-reForge/extensions/sd-forge-deforum\n",
    "%cd /tmp/stable-diffusion-webui-reForge/extensions\n",
    "!git clone https://github.com/deforum-art/sd-forge-deforum\n",
    "!cp /usr/src/app/defaults.py /tmp/stable-diffusion-webui-reForge/extensions/sd-forge-deforum/scripts/deforum_helpers/defaults.py\n",
    "\n",
    "%cd /tmp/stable-diffusion-webui-reForge/extensions\n",
    "!git clone https://github.com/KohakuBlueleaf/z-tipo-extension.git\n",
    "\n",
    "%cd /tmp/stable-diffusion-webui-reForge/extensions\n",
    "!git clone https://github.com/Tok/sd-forge-deforum.git\n",
    "\n",
    "%cd /tmp/stable-diffusion-webui-reForge/extensions\n",
    "!git clone https://github.com/DominikDoom/a1111-sd-webui-tagcomplete.git\n",
    "\n",
    "%cd /tmp/stable-diffusion-webui-reForge/extensions\n",
    "!git clone https://github.com/Bing-su/adetailer.git\n",
    "\n",
    "%cd /tmp/stable-diffusion-webui-reForge/extensions\n",
    "!git clone https://github.com/altoiddealer/--sd-webui-ar-plusplus.git\n",
    "\n",
    "%cd /tmp/stable-diffusion-webui-reForge/extensions\n",
    "!git clone https://github.com/hako-mikan/sd-webui-cd-tuner.git\n",
    "\n",
    "%cd /tmp/stable-diffusion-webui-reForge/extensions\n",
    "!git clone https://github.com/hako-mikan/sd-webui-negpip.git\n",
    "\n",
    "%cd /tmp/stable-diffusion-webui-reForge/extensions\n",
    "!git clone https://github.com/Bocchi-Chan2023/stable-diffusion-webui-wd14-tagger.git"
   ]
  }
 ],
 "metadata": {
  "kernelspec": {
   "display_name": "Python 3 (ipykernel)",
   "language": "python",
   "name": "python3"
  },
  "language_info": {
   "codemirror_mode": {
    "name": "ipython",
    "version": 3
   },
   "file_extension": ".py",
   "mimetype": "text/x-python",
   "name": "python",
   "nbconvert_exporter": "python",
   "pygments_lexer": "ipython3",
   "version": "3.10.12"
  }
 },
 "nbformat": 4,
 "nbformat_minor": 5
}
