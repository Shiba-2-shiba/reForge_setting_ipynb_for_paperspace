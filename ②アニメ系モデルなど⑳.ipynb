{
 "cells": [
  {
   "cell_type": "markdown",
   "id": "9e42bc1e-9825-4587-b533-c74607b1a377",
   "metadata": {},
   "source": [
    "## モデルアニメ系\n"
   ]
  },
  {
   "cell_type": "code",
   "execution_count": 1,
   "id": "6381569a-51b4-4303-a623-7f0b70104889",
   "metadata": {
    "execution": {
     "iopub.execute_input": "2025-01-18T18:47:50.451952Z",
     "iopub.status.busy": "2025-01-18T18:47:50.451675Z",
     "iopub.status.idle": "2025-01-18T19:06:11.499673Z",
     "shell.execute_reply": "2025-01-18T19:06:11.498953Z",
     "shell.execute_reply.started": "2025-01-18T18:47:50.451931Z"
    }
   },
   "outputs": [
    {
     "name": "stdout",
     "output_type": "stream",
     "text": [
      "Downloading model from https://huggingface.co/John6666/coco-illustrious-noobai-style-v50-sdxl/resolve/main to /tmp/stable-diffusion-webui-reForge/models/Stable-diffusion/coco-illustrious-noobai-style-v50-sdxl\n",
      "Downloading model.safetensors from text_encoder:   0%|   | 0/100 [00:05<?, ?%/s]\n",
      "Downloading model.safetensors from text_encoder_2:   0%| | 0/100 [00:33<?, ?%/s]\n",
      "Downloading diffusion_pytorch_model.safetensors from unet:   0%| | 0/100 [02:03<\n",
      "Downloading diffusion_pytorch_model.safetensors from vae:   0%| | 0/100 [00:04<?\n",
      "Converting model:   0%|                                  | 0/100 [00:18<?, ?%/s]\n",
      "Directory successfully deleted\n",
      "Downloading model from https://huggingface.co/John6666/zuki-cute-ill-v40-sdxl/resolve/main to /tmp/stable-diffusion-webui-reForge/models/Stable-diffusion/zuki-cute-ill-v40-sdxl\n",
      "Downloading model.safetensors from text_encoder:   0%|   | 0/100 [00:06<?, ?%/s]\n",
      "Downloading model.safetensors from text_encoder_2:   0%| | 0/100 [00:33<?, ?%/s]\n",
      "Downloading diffusion_pytorch_model.safetensors from unet:   0%| | 0/100 [02:02<\n",
      "Downloading diffusion_pytorch_model.safetensors from vae:   0%| | 0/100 [00:04<?\n",
      "Converting model:   0%|                                  | 0/100 [00:14<?, ?%/s]\n",
      "Directory successfully deleted\n",
      "Downloading model from https://huggingface.co/John6666/wai-nsfw-illustrious-v90-sdxl/resolve/main to /tmp/stable-diffusion-webui-reForge/models/Stable-diffusion/wai-nsfw-illustrious-v90-sdxl\n",
      "Downloading model.safetensors from text_encoder:   0%|   | 0/100 [00:06<?, ?%/s]\n",
      "Downloading model.safetensors from text_encoder_2:   0%| | 0/100 [00:32<?, ?%/s]\n",
      "Downloading diffusion_pytorch_model.safetensors from unet:   0%| | 0/100 [02:02<\n",
      "Downloading diffusion_pytorch_model.safetensors from vae:   0%| | 0/100 [00:04<?\n",
      "Converting model:   0%|                                  | 0/100 [00:14<?, ?%/s]\n",
      "Directory successfully deleted\n",
      "Downloading model from https://huggingface.co/John6666/pornmaster-pro-noobv15vae-sdxl/resolve/main to /tmp/stable-diffusion-webui-reForge/models/Stable-diffusion/pornmaster-pro-noobv15vae-sdxl\n",
      "Downloading model.safetensors from text_encoder:   0%|   | 0/100 [00:06<?, ?%/s]\n",
      "Downloading model.safetensors from text_encoder_2:   0%| | 0/100 [00:33<?, ?%/s]\n",
      "Downloading diffusion_pytorch_model.safetensors from unet:   0%| | 0/100 [02:02<\n",
      "Downloading diffusion_pytorch_model.safetensors from vae:   0%| | 0/100 [00:04<?\n",
      "Converting model:   0%|                                  | 0/100 [00:16<?, ?%/s]\n",
      "Directory successfully deleted\n",
      "Downloading model from https://huggingface.co/John6666/kodora-v30-sdxl/resolve/main to /tmp/stable-diffusion-webui-reForge/models/Stable-diffusion/kodora-v30-sdxl\n",
      "Downloading model.safetensors from text_encoder:   0%|   | 0/100 [00:06<?, ?%/s]\n",
      "Downloading model.safetensors from text_encoder_2:   0%| | 0/100 [00:33<?, ?%/s]\n",
      "Downloading diffusion_pytorch_model.safetensors from unet:   0%| | 0/100 [02:02<\n",
      "Downloading diffusion_pytorch_model.safetensors from vae:   0%| | 0/100 [00:04<?\n",
      "Converting model:   0%|                                  | 0/100 [00:16<?, ?%/s]\n",
      "Directory successfully deleted\n",
      "Downloading model from https://huggingface.co/John6666/realism-illustrious-by-stable-yogi-v22-sdxl/resolve/main to /tmp/stable-diffusion-webui-reForge/models/Stable-diffusion/realism-illustrious-by-stable-yogi-v22-sdxl\n",
      "Downloading model.safetensors from text_encoder:   0%|   | 0/100 [00:06<?, ?%/s]\n",
      "Downloading model.safetensors from text_encoder_2:   0%| | 0/100 [00:33<?, ?%/s]\n",
      "Downloading diffusion_pytorch_model.safetensors from unet:   0%| | 0/100 [02:02<\n",
      "Downloading diffusion_pytorch_model.safetensors from vae:   0%| | 0/100 [00:04<?\n",
      "Converting model:   0%|                                  | 0/100 [00:16<?, ?%/s]\n",
      "Directory successfully deleted\n"
     ]
    }
   ],
   "source": [
    "# Jupyter Notebook\n",
    "\n",
    "# モデルのURLとローカルパスのリスト\n",
    "models = [\n",
    "    {\n",
    "        \"base_url\": \"https://huggingface.co/John6666/coco-illustrious-noobai-style-v50-sdxl/resolve/main\",\n",
    "        \"base_path\": \"/tmp/stable-diffusion-webui-reForge/models/Stable-diffusion/coco-illustrious-noobai-style-v50-sdxl\"\n",
    "    },\n",
    "    {\n",
    "        \"base_url\": \"https://huggingface.co/John6666/zuki-cute-ill-v40-sdxl/resolve/main\",\n",
    "        \"base_path\": \"/tmp/stable-diffusion-webui-reForge/models/Stable-diffusion/zuki-cute-ill-v40-sdxl\"\n",
    "    },\n",
    "    {\n",
    "        \"base_url\": \"https://huggingface.co/John6666/wai-nsfw-illustrious-v90-sdxl/resolve/main\",\n",
    "        \"base_path\": \"/tmp/stable-diffusion-webui-reForge/models/Stable-diffusion/wai-nsfw-illustrious-v90-sdxl\"\n",
    "    },\n",
    "    {\n",
    "        \"base_url\": \"https://huggingface.co/John6666/pornmaster-pro-noobv15vae-sdxl/resolve/main\",\n",
    "        \"base_path\": \"/tmp/stable-diffusion-webui-reForge/models/Stable-diffusion/pornmaster-pro-noobv15vae-sdxl\"\n",
    "    },\n",
    "    {\n",
    "        \"base_url\": \"https://huggingface.co/John6666/kodora-v30-sdxl/resolve/main\",\n",
    "        \"base_path\": \"/tmp/stable-diffusion-webui-reForge/models/Stable-diffusion/kodora-v30-sdxl\"\n",
    "    },\n",
    "    {\n",
    "        \"base_url\": \"https://huggingface.co/John6666/realism-illustrious-by-stable-yogi-v22-sdxl/resolve/main\",\n",
    "        \"base_path\": \"/tmp/stable-diffusion-webui-reForge/models/Stable-diffusion/realism-illustrious-by-stable-yogi-v22-sdxl\"\n",
    "    }\n",
    "]\n",
    "\n",
    "# 各モデルについてスクリプトを実行\n",
    "for model in models:\n",
    "    base_url = model[\"base_url\"]\n",
    "    base_path = model[\"base_path\"]\n",
    "    print(f\"Downloading model from {base_url} to {base_path}\")\n",
    "    !python3 /usr/src/app/modeldownload_from_hugginface.py {base_url} {base_path}\n"
   ]
  }
 ],
 "metadata": {
  "kernelspec": {
   "display_name": "Python 3 (ipykernel)",
   "language": "python",
   "name": "python3"
  },
  "language_info": {
   "codemirror_mode": {
    "name": "ipython",
    "version": 3
   },
   "file_extension": ".py",
   "mimetype": "text/x-python",
   "name": "python",
   "nbconvert_exporter": "python",
   "pygments_lexer": "ipython3",
   "version": "3.10.12"
  }
 },
 "nbformat": 4,
 "nbformat_minor": 5
}
