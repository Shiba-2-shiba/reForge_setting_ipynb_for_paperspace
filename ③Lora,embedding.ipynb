{
 "cells": [
  {
   "cell_type": "markdown",
   "id": "9e42bc1e-9825-4587-b533-c74607b1a377",
   "metadata": {},
   "source": [
    "## Loraとembbedingをコピーする\n"
   ]
  },
  {
   "cell_type": "code",
   "execution_count": 1,
   "id": "6381569a-51b4-4303-a623-7f0b70104889",
   "metadata": {
    "execution": {
     "iopub.execute_input": "2024-12-02T07:34:14.310543Z",
     "iopub.status.busy": "2024-12-02T07:34:14.309993Z",
     "iopub.status.idle": "2024-12-02T07:34:21.615430Z",
     "shell.execute_reply": "2024-12-02T07:34:21.614731Z",
     "shell.execute_reply.started": "2024-12-02T07:34:14.310520Z"
    }
   },
   "outputs": [],
   "source": [
    "!cp -r /usr/src/app/loras/* /tmp/stable-diffusion-webui-forge/models/Lora\n",
    "!cp -r /usr/src/app/embeddings/* /tmp/stable-diffusion-webui-forge/embeddings\n",
    "!cp -r /usr/src/app/VAE/* /tmp/stable-diffusion-webui-forge/models/VAE\n"
   ]
  }
 ],
 "metadata": {
  "kernelspec": {
   "display_name": "Python 3 (ipykernel)",
   "language": "python",
   "name": "python3"
  },
  "language_info": {
   "codemirror_mode": {
    "name": "ipython",
    "version": 3
   },
   "file_extension": ".py",
   "mimetype": "text/x-python",
   "name": "python",
   "nbconvert_exporter": "python",
   "pygments_lexer": "ipython3",
   "version": "3.10.12"
  }
 },
 "nbformat": 4,
 "nbformat_minor": 5
}
