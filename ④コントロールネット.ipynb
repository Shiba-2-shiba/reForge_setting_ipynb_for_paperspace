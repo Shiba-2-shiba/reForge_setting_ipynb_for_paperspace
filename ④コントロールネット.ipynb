{
 "cells": [
  {
   "cell_type": "code",
   "execution_count": null,
   "id": "1d8d6536-e549-4930-a9c0-f78e9736b1dd",
   "metadata": {
    "execution": {
     "iopub.execute_input": "2024-11-20T05:33:38.342608Z",
     "iopub.status.busy": "2024-11-20T05:33:38.342103Z",
     "iopub.status.idle": "2024-11-20T05:35:04.925729Z",
     "shell.execute_reply": "2024-11-20T05:35:04.924973Z",
     "shell.execute_reply.started": "2024-11-20T05:33:38.342579Z"
    }
   },
   "outputs": [],
   "source": [
    "# コントロールネットip-adapter\n",
    "!cd /tmp/stable-diffusion-webui-reForge/models/ControlNet && \\\n",
    "wget -nc https://huggingface.co/lllyasviel/sd_control_collection/resolve/main/ip-adapter_xl.pth?download=true -O ip-adapter_xl.pth\n",
    "\n",
    "# コントロールネットmistoline\n",
    "!cd /tmp/stable-diffusion-webui-reForge/models/ControlNet && \\\n",
    "wget -nc https://huggingface.co/TheMistoAI/MistoLine/resolve/main/mistoLine_fp16.safetensors?download=true -O mistoLine_fp16.safetensors\n",
    "\n",
    "# コントロールネットDEPTH\n",
    "!cd /tmp/stable-diffusion-webui-reForge/models/ControlNet && \\\n",
    "wget -nc https://huggingface.co/lllyasviel/sd_control_collection/resolve/main/diffusers_xl_depth_full.safetensors?download=true -O diffusers_xl_depth_full.safetensors\n",
    "\n",
    "# コントロールネットanytest\n",
    "!cd /tmp/stable-diffusion-webui-reForge/models/ControlNet && \\\n",
    "wget -nc https://huggingface.co/2vXpSwA7/iroiro-lora/resolve/main/test_controlnet2/CN-anytest_v4-marged.safetensors?download=true -O CN-anytest_v4-marged.safetensors\n"
   ]
  }
 ],
 "metadata": {
  "kernelspec": {
   "display_name": "Python 3 (ipykernel)",
   "language": "python",
   "name": "python3"
  },
  "language_info": {
   "codemirror_mode": {
    "name": "ipython",
    "version": 3
   },
   "file_extension": ".py",
   "mimetype": "text/x-python",
   "name": "python",
   "nbconvert_exporter": "python",
   "pygments_lexer": "ipython3",
   "version": "3.10.12"
  }
 },
 "nbformat": 4,
 "nbformat_minor": 5
}
